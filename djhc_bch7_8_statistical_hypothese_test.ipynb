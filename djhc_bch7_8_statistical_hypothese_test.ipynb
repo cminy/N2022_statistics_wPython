{
  "nbformat": 4,
  "nbformat_minor": 0,
  "metadata": {
    "colab": {
      "provenance": [],
      "toc_visible": true,
      "authorship_tag": "ABX9TyNA8NgKjddOrGxDfUC2PVgL",
      "include_colab_link": true
    },
    "kernelspec": {
      "name": "python3",
      "display_name": "Python 3"
    },
    "language_info": {
      "name": "python"
    }
  },
  "cells": [
    {
      "cell_type": "markdown",
      "metadata": {
        "id": "view-in-github",
        "colab_type": "text"
      },
      "source": [
        "<a href=\"https://colab.research.google.com/github/cminy/study_statistics_wPython/blob/main/djhc_bch7_8_statistical_hypothese_test.ipynb\" target=\"_parent\"><img src=\"https://colab.research.google.com/assets/colab-badge.svg\" alt=\"Open In Colab\"/></a>"
      ]
    },
    {
      "cell_type": "code",
      "source": [
        "import numpy as np\n",
        "import pandas as pd\n",
        "import scipy.stats as stats\n",
        "import scipy\n",
        "from warnings import simplefilter\n",
        "simplefilter(action='ignore', category=FutureWarning)"
      ],
      "metadata": {
        "id": "D_mCCigj7Rwx"
      },
      "execution_count": 1,
      "outputs": []
    },
    {
      "cell_type": "markdown",
      "source": [
        "#통계적 가설검정 (유의성검정)\n",
        "<br>statistical hypothese test (significance test)<p>\n",
        ": 관심있는 가설에 대해 표본에 근거하여 검정통계량과 p-값(유의확률)을 계산한 후 통계적 결정을 내리는 통계적 추론 방법.\n",
        "</p>"
      ],
      "metadata": {
        "id": "pEElzk61AJeF"
      }
    },
    {
      "cell_type": "markdown",
      "source": [
        "## 1. 통계적 가설검정 \n",
        ": 데이터에 근거하여 실험자가 주장하고 싶은 가설의 옳고 그름을 판정하는 통계적 절차.\n",
        "- 귀무가설*H0*, 대립가설*H1*의 두 가설을 세우고 데이터에 포함된 정보를 이용하여 어느 한 가설을 받아들이는 결론을 취함.\n",
        "- 실험자가 새롭게 주장하려는 바는 대부분의 경우 대립가설*H1*에 놓음.\n",
        "- 검정통계량을 계산하여 귀무가설*H0*을 기각하거나 채택"
      ],
      "metadata": {
        "id": "YzU-SNYdAwpS"
      }
    },
    {
      "cell_type": "markdown",
      "source": [
        "- 보통 제 1종 오류의 확률 α를 고정한 다음, 제 2종 오류의 확률 Β를 최소화하도록 가설검정법을 만듦.\n",
        "  - 제 1종 오류 : *H0*이 참인데 기각하는 경우 => 확률 α\n",
        "  - 제 2종 오류 : *H0*가 거짓인데 채택하는 경우 => 확률 Β\n",
        "  - 1-Β = *H0*가 거짓일때 기각하는 경우 = 검정력 power (올바른거임)\n",
        "- α = 유의수준 significance level<br>\n",
        ": 제 1종 오류를 범할 확률의 최대 허용값. 보통 α = 0.05, α = 0.01<p>\n",
        "- p-value 유의확률<br>\n",
        ": 주어진 데이터로 검정통계량을 계산했을 때 귀무가설*H0*기각할 수 있는 유의수준(임계치로서의 p값)을 나타냄<br>\n",
        "=> p-value가 작을수록 귀무가설*H0* 기각할 가능성 커짐.<br>\n",
        ": 귀무가설이 맞다는 전제 하에 통계값이 실제로 관측될 값 이상일 확률\n",
        "> 일반적으로 p-value는 어떤 가설을 전제로, 그 가설(귀무가설)이 맞는다는 가정 하에 내가 현재 구한 통계값이 얼마나 자주 나올 것인가를 의미한다고 할 수 있다. 즉, P 값은 특정 값이 정규 분포(확률 분포)의 어딘가에 해당하는지 나타내는 확률 혹은 귀무가설이 참인지 거짓인지 측정하는 척도로 사용될 수 있다.<br>\n"
      ],
      "metadata": {
        "id": "blVTBUcXBbC8"
      }
    },
    {
      "cell_type": "markdown",
      "source": [
        "## [ T - test ]\n",
        "\n",
        "1) 조건\n",
        "- identical interval & continuity 자료는 모두 동일 간격을 가진 연속형 수치\n",
        "- independence 두 집단은 서로 독립적 \n",
        "- normality 자료의 수치는 정규성을 가져야\n",
        "- equal variance 두 집단 각각에서 추정된 분산은 동일\n",
        "<p>\n",
        "=> 조건 만족하지 않는 경우에는? <a href=https://velog.io/@yuns_u/%EA%B0%80%EC%84%A4%EA%B2%80%EC%A0%95-%EB%AF%B8%EC%99%84>어떤 테스트를 하는가</a><p>\n",
        "\n",
        "\n",
        "2) 과정\n",
        "<br>\n",
        ": 귀무가설 세운다 (*H0*: A집단과 B집단 차이X)\n",
        "<br>\n",
        "\\> 유의수준 정하기 ~ 신뢰도(99~95%범주)\n",
        "<br>\n",
        "\\> 단측검정 or 양측검정 결정 <br>\n",
        "\\> 샘플링 후 가설 검증 (t-value 통해 확인)<br>\n",
        "But! t-value는 데이터의 크기에 따라 값이 달라짐 \n",
        "<br>\n",
        "$\\therefore$ 데이터의 크기랑 상관없이 데이터 비교할 수 있는 p-value로 가설 검증 ~ 귀무가설 맞는지 틀리는지\n",
        "- \"p-value가 0.05 미만\" : \"귀무가설이 옳을 확률이 5프로 미만이다.\"\n",
        "- \"p-value가 0.1 이상\" : \"귀무가설 기각 실패 -> 귀무가설 맞다.\"\n",
        "- \"p-value가 0.05이상~0.1미만\" : \"애매.. -> 실험 다시하거나 가설 다시세우거나 샘플링을 다시하거나..\""
      ],
      "metadata": {
        "id": "NmN2ZS8WjZmA"
      }
    },
    {
      "cell_type": "markdown",
      "source": [
        "## 2. 일집단 t-검정\n",
        "One-sample T-test 1개의 sample값을 비교하는 t테스트"
      ],
      "metadata": {
        "id": "Xt7-IqQqFMB7"
      }
    },
    {
      "cell_type": "markdown",
      "source": [
        "### 2.1 소표본(n<30)이며 모분산 $ σ^2$을 모르는 경우 \n",
        "\n",
        "일변량 확률표본 X1, X2, ... , Xn<br>\n",
        "~ $N(μ_0,σ^2$)<br>\n",
        "서로 독립<br>\n",
        "\n",
        "=> 확률표본 X1, X2, ... , Xn 에 대하여 특정한 모평균에 대한 가설검정을 위한 검정통계량 $\\frac{\\overline{X}-μ_0}{S/\\sqrt(n)}$ 은 *H0* 하에서 $t_{n-1}$ 분포를 따른다.\n",
        "\n",
        "  - $\\overline{X}$ : 표본평균\n",
        "  - S : 표본표준편차\n",
        "  - cf. 수식 간단설명 <a href=https://blog.naver.com/alwaysmr/222304533807>링크</a>"
      ],
      "metadata": {
        "id": "gcO41lIwFTBI"
      }
    },
    {
      "cell_type": "markdown",
      "source": [
        "####모평균에 대한 가설 검정<p>\n",
        "<s>=> [기각] 정규분포라고 할 수 없다?</s>\n",
        "<img src=https://velog.velcdn.com/images%2Fyuns_u%2Fpost%2Fb971fc92-2b1b-4f85-8c6d-99b839aa998a%2Fimage.png>\n",
        "\n",
        "#####1) 양측검정 two-tailed(side/direction) T-test\n",
        "  *H0* : μ = $μ_0$ 에 대해 *H1* : μ $\\not=μ_0$<br>\n",
        "  : 유의수준 α 에서 $ |t| \\ge t_{n-1}(α/2)$ => *H0* 기각\n",
        "\n",
        "#####2) 단측검정 one-tailed T-test\n",
        "  *H0* : μ = $μ_0$ 에 대해 *H1* : μ $>μ_0$<br>\n",
        "  : 유의수준 α 에서 $ t \\ge t_{n-1}(α)$ => *H0* 기각\n",
        "\n",
        "3)  *H0* : μ = $μ_0$ 에 대해 *H1* : μ $<μ_0$<br>\n",
        "  : 유의수준 α 에서 $ t \\le t_{n-1}(α)$ => *H0* 기각\n",
        "  <br>\n",
        "\n",
        "- $t_{n-1}(α)$ : 자유도 n-1인 t분포를 따르는 확률변수 $T$ 에 대해 $P(T \\ge t_{n-1}(α))$ = α 만족하는 값"
      ],
      "metadata": {
        "id": "qbI3_vasB81B"
      }
    },
    {
      "cell_type": "code",
      "source": [
        "# 예7.2.1\n",
        "# 암컷 원숭이 몸무게 조사\n",
        "# (1)양측검정\n",
        "x = np.array([8.30, 9.50, 9.60, 8.75, 8.40, 9.10, 8.15, 8.80])\n",
        "print(np.mean(x))\n",
        "stats.ttest_1samp(x, 8.5)"
      ],
      "metadata": {
        "colab": {
          "base_uri": "https://localhost:8080/"
        },
        "id": "odMuOnq_ve_Z",
        "outputId": "5947b026-e075-4c6f-e1b4-8106cdf8b9e8"
      },
      "execution_count": 2,
      "outputs": [
        {
          "output_type": "stream",
          "name": "stdout",
          "text": [
            "8.825000000000001\n"
          ]
        },
        {
          "output_type": "execute_result",
          "data": {
            "text/plain": [
              "Ttest_1sampResult(statistic=1.6986364689534246, pvalue=0.13319262723588568)"
            ]
          },
          "metadata": {},
          "execution_count": 2
        }
      ]
    },
    {
      "cell_type": "code",
      "source": [
        "# p-value 가 0.13이라 유의수준 0.05 보다 큼. => H0 기각 못함\n",
        "# 평균 몸무게를 8.5 아니라고 할 수 없다. "
      ],
      "metadata": {
        "id": "cSgsUzj86i_I"
      },
      "execution_count": 3,
      "outputs": []
    },
    {
      "cell_type": "code",
      "source": [
        "# 실제 모평균을 구해볼까\n",
        "mean_x = np.mean(x) # 표본평균\n",
        "n = len(x)\n",
        "s = np.sqrt(np.var(x, ddof=1)/n) # 표준편차\n",
        "\n",
        "t_test = stats.t.interval(alpha = 0.95, df = n-1, loc = mean_x, scale = s)\n",
        "print(\"모평균 추정값: \", mean_x, \"\\n모평균에 대한 95% 신뢰구간: \", t_test)"
      ],
      "metadata": {
        "colab": {
          "base_uri": "https://localhost:8080/"
        },
        "id": "8V-PGHzY7BXf",
        "outputId": "06320e32-f583-4b07-93e8-3cf112b5f187"
      },
      "execution_count": 4,
      "outputs": [
        {
          "output_type": "stream",
          "name": "stdout",
          "text": [
            "모평균 추정값:  8.825000000000001 \n",
            "모평균에 대한 95% 신뢰구간:  (8.372576602984484, 9.277423397015518)\n"
          ]
        }
      ]
    },
    {
      "cell_type": "code",
      "source": [
        "# (2)단측검정\n",
        "# 그래프를 생각해보자.\n",
        "onesides = (stats.ttest_1samp(x, 8.5)[1])/2\n",
        "alpha = 0.05\n",
        "if onesides > alpha :\n",
        "  print(\"p-값: \",onesides,\"\\nH0을 기각하지 못한다. 8.5kg보다 크다고 할 수는 없다.\")\n",
        "else:\n",
        "  print(\"p-값: \",onesides,\"\\nH0을 기각하여 8.5kg보다 크다고 할 수 있다.\")"
      ],
      "metadata": {
        "colab": {
          "base_uri": "https://localhost:8080/"
        },
        "id": "8vcQXZba90rW",
        "outputId": "eb3f719a-5088-4e69-be8b-ec33100ed1fd"
      },
      "execution_count": 5,
      "outputs": [
        {
          "output_type": "stream",
          "name": "stdout",
          "text": [
            "p-값:  0.06659631361794284 \n",
            "H0을 기각하지 못한다. 8.5kg보다 크다고 할 수는 없다.\n"
          ]
        }
      ]
    },
    {
      "cell_type": "code",
      "source": [
        "# (3)단측검정\n",
        "onesidess = 1-onesides\n",
        "if onesidess > alpha :\n",
        "  print(\"p-값: \",onesidess,\"\\nH0을 기각하지 못한다. 8.5kg보다 작다고 할 수는 없다.\")\n",
        "else:\n",
        "  print(\"p-값: \",onesidess,\"\\nH0을 기각하여 8.5kg보다 작다고 할 수 있다.\")"
      ],
      "metadata": {
        "colab": {
          "base_uri": "https://localhost:8080/"
        },
        "id": "CVQYgf4aA-Ap",
        "outputId": "322fdc8b-ac6b-4132-c980-3e2c30b9e630"
      },
      "execution_count": 6,
      "outputs": [
        {
          "output_type": "stream",
          "name": "stdout",
          "text": [
            "p-값:  0.9334036863820572 \n",
            "H0을 기각하지 못한다. 8.5kg보다 작다고 할 수는 없다.\n"
          ]
        }
      ]
    },
    {
      "cell_type": "markdown",
      "source": [
        "### 2.2 모분산 $ σ^2$을 아는 경우 \n",
        "\n",
        "일변량 확률표본 X1, X2, ... , Xn<br>\n",
        "~ $N(μ_0,σ^2$)<br>\n",
        "서로 독립<br>\n",
        "\n",
        "=> 확률표본 X1, X2, ... , Xn 에 대하여 \n",
        "$H_0$ 하에서 $Z = \\frac{\\overline{X}-μ_0}{\\sigma/\\sqrt(n)}$ <br>\n",
        "- $Z$ : 표준정규분포\n"
      ],
      "metadata": {
        "id": "KL71PNfhCdug"
      }
    },
    {
      "cell_type": "markdown",
      "source": [
        "####모평균에 대한 가설 검정<p> => [기각] 정규분포라고 할 수 없다?\n",
        "\n",
        "1) *H0* : μ = $μ_0$ 에 대해 *H1* : μ $\\not=μ_0$<br>\n",
        "  : 유의수준 α 에서 $ |Z| \\ge z_{n-1}(α/2)$ => *H0* 기각\n",
        "\n",
        "2) *H0* : μ = $μ_0$ 에 대해 *H1* : μ $>μ_0$<br>\n",
        "  : 유의수준 α 에서 $ Z \\ge z(α)$ => *H0* 기각\n",
        "\n",
        "3) *H0* : μ = $μ_0$ 에 대해 *H1* : μ $<μ_0$<br>\n",
        "  : 유의수준 α 에서 $ Z \\le -z(α)$ => *H0* 기각\n",
        "  <br>\n",
        "\n",
        "- $z(α)$ : ~ N(0,1)인 확률변수 $Z$ 에 대해 $P(Z \\ge z(α))$ = α 만족하는 값"
      ],
      "metadata": {
        "id": "hHIgvnsGCdug"
      }
    },
    {
      "cell_type": "code",
      "source": [
        "# 예7.2.2\n",
        "# 암컷 원숭이 몸무게 조사 ~ N(0,1)\n",
        "# (1)통계적 가설\n",
        "#   : 귀무가설 : mu=8.5에 대해 : 대립가설 : mu != 8.5"
      ],
      "metadata": {
        "id": "-g295w5QCduh"
      },
      "execution_count": 7,
      "outputs": []
    },
    {
      "cell_type": "code",
      "source": [
        "# (2)z검정\n",
        "z = (mean_x - 8.5)/(np.sqrt(1/n))\n",
        "\n",
        "z_test = stats.norm.cdf(loc=0, scale=1, x=z)\n",
        "print(\"z값: \", z, \"\\np값: \", (1-z_test)*2)"
      ],
      "metadata": {
        "colab": {
          "base_uri": "https://localhost:8080/"
        },
        "outputId": "c4453733-96e5-4d86-91a1-b970de93f509",
        "id": "udmY-NEkCdui"
      },
      "execution_count": 8,
      "outputs": [
        {
          "output_type": "stream",
          "name": "stdout",
          "text": [
            "z값:  0.9192388155425147 \n",
            "p값:  0.3579706726443266\n"
          ]
        }
      ]
    },
    {
      "cell_type": "code",
      "source": [
        "if (1-z_test)*2 > alpha :\n",
        "  print(\"p-값: \",(1-z_test)*2,\"\\nH0을 기각하지 못한다. 8.5kg가 아니라고 할 수 없다.\")\n",
        "else:\n",
        "  print(\"p-값: \",(1-z_test)*2,\"\\nH0을 기각하여 8.5kg이라고 할 수 없다.\")"
      ],
      "metadata": {
        "colab": {
          "base_uri": "https://localhost:8080/"
        },
        "id": "5Hoq9gWfFb8y",
        "outputId": "e099cefc-d6d3-4cc2-8654-be7f9c7c3076"
      },
      "execution_count": 9,
      "outputs": [
        {
          "output_type": "stream",
          "name": "stdout",
          "text": [
            "p-값:  0.3579706726443266 \n",
            "H0을 기각하지 못한다. 8.5kg가 아니라고 할 수 없다.\n"
          ]
        }
      ]
    },
    {
      "cell_type": "markdown",
      "source": [
        "## 3. 이집단 t-검정\n",
        "two-sample T-test 2개의 sample값을 비교하는 t테스트\n",
        "예) *H0*: 서울시의 구별 평균 느티나무수와 왕벚나무의 수는 차이가 없다"
      ],
      "metadata": {
        "id": "MUzx7n-OoQdx"
      }
    },
    {
      "cell_type": "markdown",
      "source": [
        "### 3.1 일변량, 소표본(n<30), 모분산 $ σ_1^2 = σ_2^2 = σ^2$인데 $σ^2$을 모르는 경우 \n",
        "\n",
        "수식 왜이렇게 복잡하냐"
      ],
      "metadata": {
        "id": "c7ntPyGroQdy"
      }
    },
    {
      "cell_type": "code",
      "source": [
        "# 예7.3.2\n",
        "# 지혈제 A와 B의 효과 측정 데이터\n",
        "# (1) H0 : 두 집단 평균 같다. : 대립가설 : 같지 않다."
      ],
      "metadata": {
        "id": "do9R2Qwop-ju"
      },
      "execution_count": 10,
      "outputs": []
    },
    {
      "cell_type": "code",
      "source": [
        "a = np.array([1.1, 2.3, 4.3, 2.2, 5.3])\n",
        "b = np.array([2.3, 4.3, 3.5])\n",
        "result = stats.ttest_ind(a, b, equal_var = True)"
      ],
      "metadata": {
        "id": "9S9YTsHdqkYM"
      },
      "execution_count": 11,
      "outputs": []
    },
    {
      "cell_type": "code",
      "source": [
        "# alpha = 0.05\n",
        "if result[1] > alpha :\n",
        "  print(\"p-값: \",result[1],\"\\nH0을 기각하지 못한다. => 두 집단 평균 같지 않다고 할 수 없다.\")\n",
        "else:\n",
        "  print(\"p-값: \",result[1],\"\\nH0을 기각\")"
      ],
      "metadata": {
        "colab": {
          "base_uri": "https://localhost:8080/"
        },
        "id": "CDvUQSB3rBqB",
        "outputId": "88389143-3365-4017-b278-2f2373cc9786"
      },
      "execution_count": 12,
      "outputs": [
        {
          "output_type": "stream",
          "name": "stdout",
          "text": [
            "p-값:  0.7774965102669648 \n",
            "H0을 기각하지 못한다. => 두 집단 평균 같지 않다고 할 수 없다.\n"
          ]
        }
      ]
    },
    {
      "cell_type": "code",
      "source": [
        "# (2) 이집단 t검정 (분산같음)\n",
        "mean_a, mean_b = np.mean(a), np.mean(b)\n",
        "s2_a = np.var(a, ddof=1)\n",
        "s2_b = np.var(b, ddof=1)\n",
        "df2 = len(a)+len(b)-2\n",
        "print(mean_a, mean_b, s2_a, s2_b, df2)"
      ],
      "metadata": {
        "colab": {
          "base_uri": "https://localhost:8080/"
        },
        "id": "qQT6FYnEqaW0",
        "outputId": "3385d909-cc6d-43a8-d6a9-bccc415efb0e"
      },
      "execution_count": 13,
      "outputs": [
        {
          "output_type": "stream",
          "name": "stdout",
          "text": [
            "3.04 3.3666666666666667 2.9279999999999995 1.0133333333333334 6\n"
          ]
        }
      ]
    },
    {
      "cell_type": "code",
      "source": [
        "s2_pool = ((len(a)-1)*s2_a + (len(b)-1)*s2_b) / df2\n",
        "se_pool = np.sqrt(s2_pool*(1/len(a)+1/len(b)))\n",
        "s2_pool, se_pool"
      ],
      "metadata": {
        "colab": {
          "base_uri": "https://localhost:8080/"
        },
        "id": "oSmLv8oGssYg",
        "outputId": "c16fab4b-921d-43b7-9e72-3c86445c12cc"
      },
      "execution_count": 14,
      "outputs": [
        {
          "output_type": "execute_result",
          "data": {
            "text/plain": [
              "(2.2897777777777777, 1.1050858857187593)"
            ]
          },
          "metadata": {},
          "execution_count": 14
        }
      ]
    },
    {
      "cell_type": "code",
      "source": [
        "# 95% CI\n",
        "result2 = stats.t.interval(alpha, df=df2, loc=mean_a - mean_b, scale = se_pool)\n",
        "\"95% CI 신뢰구간: {} ~ {}\".format(round(result2[0],3), round(result2[1],3))"
      ],
      "metadata": {
        "colab": {
          "base_uri": "https://localhost:8080/",
          "height": 35
        },
        "id": "SBXDeOfIs7F0",
        "outputId": "6a162575-a9ea-4e07-8a39-084364b4908c"
      },
      "execution_count": 15,
      "outputs": [
        {
          "output_type": "execute_result",
          "data": {
            "text/plain": [
              "'95% CI 신뢰구간: -0.399 ~ -0.254'"
            ],
            "application/vnd.google.colaboratory.intrinsic+json": {
              "type": "string"
            }
          },
          "metadata": {},
          "execution_count": 15
        }
      ]
    },
    {
      "cell_type": "markdown",
      "source": [
        "### 3.2 일변량, 소표본(n<30), $ σ_1^2 \\not= σ_2^2$인데 모분산 $σ^2$을 모르는 경우 \n",
        "\n",
        "수식 왜이렇게 복잡하냐"
      ],
      "metadata": {
        "id": "fs6s0m7-pjps"
      }
    },
    {
      "cell_type": "markdown",
      "source": [
        "### 예제 7.3.2 (a)"
      ],
      "metadata": {
        "id": "VPRg8sPSj1re"
      }
    },
    {
      "cell_type": "code",
      "source": [
        "# 지혈제 A와 B의 효과 측정 데이터\n",
        "# <양측검정> H0 : 두 집단 평균 같다. : 대립가설 : 같지 않다."
      ],
      "metadata": {
        "id": "bQ2f_J3MrnFH"
      },
      "execution_count": 16,
      "outputs": []
    },
    {
      "cell_type": "code",
      "source": [
        "a = np.array([1.1, 2.3, 4.3, 2.2, 5.3])\n",
        "b = np.array([2.3, 4.3, 3.5])"
      ],
      "metadata": {
        "id": "8DMxGXEwrnFI"
      },
      "execution_count": 17,
      "outputs": []
    },
    {
      "cell_type": "code",
      "source": [
        "## 두 집단의 분산이 같다고 가정 & 양측검정\n",
        "### 분산이 같고, 이집단 t검정\n",
        "result1 = stats.ttest_ind(a, b, equal_var = True)\n",
        "print(\"t값 : \", result1[0])\n",
        "# alpha = 0.05\n",
        "if result1[1] > alpha :\n",
        "  print(\"p-값: \",result1[1],\"\\nH0을 기각하지 못한다. => 두 집단 평균 같지 않다고 할 수 없다.\")\n",
        "else:\n",
        "  print(\"p-값: \",result1[1],\"\\nH0을 기각\")\n",
        "# 신뢰구간\n",
        "mean_a, mean_b = np.mean(a), np.mean(b)\n",
        "s2_a = np.var(a, ddof=1)\n",
        "s2_b = np.var(b, ddof=1)\n",
        "df2 = len(a)+len(b)-2\n",
        "s2_pool = ((len(a)-1)*s2_a + (len(b)-1)*s2_b) / df2\n",
        "se_pool = np.sqrt(s2_pool*(1/len(a)+1/len(b)))\n",
        "result2 = stats.t.interval(alpha = 0.95, df=df2, loc=mean_a-mean_b, scale=se_pool)\n",
        "print(\"95% CI 신뢰구간: {} , {}\".format(round(result2[0],3), round(result2[1],3)))"
      ],
      "metadata": {
        "colab": {
          "base_uri": "https://localhost:8080/"
        },
        "id": "wE5CJyKBbVUT",
        "outputId": "b2f7cbb7-d256-4f4b-b605-1b436d728de2"
      },
      "execution_count": 18,
      "outputs": [
        {
          "output_type": "stream",
          "name": "stdout",
          "text": [
            "t값 :  -0.29560296705282707\n",
            "p-값:  0.7774965102669648 \n",
            "H0을 기각하지 못한다. => 두 집단 평균 같지 않다고 할 수 없다.\n",
            "95% CI 신뢰구간: -3.031 , 2.377\n"
          ]
        }
      ]
    },
    {
      "cell_type": "code",
      "source": [
        "## 두 집단의 분산이 다르다고 가정 & 양측검정\n",
        "### 분산이 다르고, 이집단 t검정\n",
        "result3 = stats.ttest_ind(a, b, equal_var = False)\n",
        "print(\"t값 : \", result3[0])\n",
        "# alpha = 0.05\n",
        "if result1[1] > alpha :\n",
        "  print(\"p-값: \",result3[1],\"\\nH0을 기각하지 못한다. => 두 집단 평균 같지 않다고 할 수 없다.\")\n",
        "else:\n",
        "  print(\"p-값: \",result3[1],\"\\nH0을 기각\")\n",
        "# 신뢰구간\n",
        "s = np.sqrt(s2_a/len(a) + s2_b/len(b))\n",
        "result4 = stats.t.interval(alpha = 0.95, df=df2, loc=mean_a-mean_b, scale=s)\n",
        "print(\"95% CI 신뢰구간: {} , {}\".format(round(result4[0],3), round(result4[1],3)))"
      ],
      "metadata": {
        "colab": {
          "base_uri": "https://localhost:8080/"
        },
        "id": "GfiVaOYur5Yd",
        "outputId": "dc6a0ed2-2822-4a73-9798-fa9aa2ad2ad3"
      },
      "execution_count": 19,
      "outputs": [
        {
          "output_type": "stream",
          "name": "stdout",
          "text": [
            "t값 :  -0.3399500518250425\n",
            "p-값:  0.7455323834085559 \n",
            "H0을 기각하지 못한다. => 두 집단 평균 같지 않다고 할 수 없다.\n",
            "95% CI 신뢰구간: -2.678 , 2.025\n"
          ]
        }
      ]
    },
    {
      "cell_type": "code",
      "source": [
        "# <단측검정>\n",
        "# H0 : 두 집단 평균 (크거나) 같다.. : 대립가설 : 한쪽이 크다.\n",
        "# : 유의수준 α 에서 $ t \\ge t_{n1+n2-2}(α)$ => *H0* 기각\n",
        "# : 유의수준 α 에서 $ t \\le t_{n1+n2-2}(α)$ => *H0* 기각"
      ],
      "metadata": {
        "id": "RvKq-W-TuiWk"
      },
      "execution_count": 20,
      "outputs": []
    },
    {
      "cell_type": "code",
      "source": [
        "## 두 집단의 분산이 같다고 가정 & 단측검정 H1: u1>u2\n",
        "### 단측검정이니까 p-value 값 /2\n",
        "print(\"t값 : \", result1[0])\n",
        "# alpha = 0.05\n",
        "if (result1[1]/2) > alpha :\n",
        "  print(\"p-값: \",(result1[1]/2),\"\\nH0을 기각하지 못한다. => 두 집단 평균 u1<=u2 라고 하지 않을 수 없다.\")\n",
        "else:\n",
        "  print(\"p-값: \",(result1[1]/2),\"\\nH0을 기각 => u1>u2\")"
      ],
      "metadata": {
        "colab": {
          "base_uri": "https://localhost:8080/"
        },
        "id": "AhHYQW2afJGU",
        "outputId": "2144ac28-a7a8-4e26-b02d-bcfed94cd73b"
      },
      "execution_count": 21,
      "outputs": [
        {
          "output_type": "stream",
          "name": "stdout",
          "text": [
            "t값 :  -0.29560296705282707\n",
            "p-값:  0.3887482551334824 \n",
            "H0을 기각하지 못한다. => 두 집단 평균 u1<=u2 라고 하지 않을 수 없다.\n"
          ]
        }
      ]
    },
    {
      "cell_type": "code",
      "source": [
        "## 두 집단의 분산이 다르다고 가정 & 단측검정 H1: u1>u2\n",
        "### 단측검정이니까 p-value 값 /2\n",
        "print(\"t값 : \", result3[0])\n",
        "# alpha = 0.05\n",
        "if (result3[1]/2) > alpha :\n",
        "  print(\"p-값: \",(result3[1]/2),\"\\nH0을 기각하지 못한다. => 두 집단 평균 u1<=u2 라고 하지 않을 수 없다.\")\n",
        "else:\n",
        "  print(\"p-값: \",(result3[1]/2),\"\\nH0을 기각 => m1>m2\")"
      ],
      "metadata": {
        "colab": {
          "base_uri": "https://localhost:8080/"
        },
        "id": "8bOXDGzChKqS",
        "outputId": "48cf8c91-5440-4bb4-ba64-11bbddb48513"
      },
      "execution_count": 22,
      "outputs": [
        {
          "output_type": "stream",
          "name": "stdout",
          "text": [
            "t값 :  -0.3399500518250425\n",
            "p-값:  0.37276619170427794 \n",
            "H0을 기각하지 못한다. => 두 집단 평균 u1<=u2 라고 하지 않을 수 없다.\n"
          ]
        }
      ]
    },
    {
      "cell_type": "markdown",
      "source": [
        "### 예제 7.3.2 (b)"
      ],
      "metadata": {
        "id": "9l0kzfXsnMt-"
      }
    },
    {
      "cell_type": "code",
      "source": [
        "# 두가지 배양법 ~ 호박잎 질소 성분 함량 측정\n",
        "method = [1,1,1,1,1,2,2,2,2]\n",
        "x = [19.1, 32.8, 27.6, 25.9, 28.5, 17.0, 16.4, 16.8, 15.3]\n",
        "df = pd.DataFrame({\"method\":method,\"pumx\":x})\n",
        "df.groupby(['method']).describe()"
      ],
      "metadata": {
        "colab": {
          "base_uri": "https://localhost:8080/",
          "height": 175
        },
        "id": "jxsz8Fw4nYEL",
        "outputId": "f9828ce6-ab61-40da-c82b-dcf40ace1af6"
      },
      "execution_count": 23,
      "outputs": [
        {
          "output_type": "execute_result",
          "data": {
            "text/plain": [
              "        pumx                                                   \n",
              "       count    mean       std   min     25%   50%    75%   max\n",
              "method                                                         \n",
              "1        5.0  26.780  4.990691  19.1  25.900  27.6  28.50  32.8\n",
              "2        4.0  16.375  0.758837  15.3  16.125  16.6  16.85  17.0"
            ],
            "text/html": [
              "\n",
              "  <div id=\"df-aabaa2f3-b916-4fcc-a963-5a6fa55f4595\">\n",
              "    <div class=\"colab-df-container\">\n",
              "      <div>\n",
              "<style scoped>\n",
              "    .dataframe tbody tr th:only-of-type {\n",
              "        vertical-align: middle;\n",
              "    }\n",
              "\n",
              "    .dataframe tbody tr th {\n",
              "        vertical-align: top;\n",
              "    }\n",
              "\n",
              "    .dataframe thead tr th {\n",
              "        text-align: left;\n",
              "    }\n",
              "\n",
              "    .dataframe thead tr:last-of-type th {\n",
              "        text-align: right;\n",
              "    }\n",
              "</style>\n",
              "<table border=\"1\" class=\"dataframe\">\n",
              "  <thead>\n",
              "    <tr>\n",
              "      <th></th>\n",
              "      <th colspan=\"8\" halign=\"left\">pumx</th>\n",
              "    </tr>\n",
              "    <tr>\n",
              "      <th></th>\n",
              "      <th>count</th>\n",
              "      <th>mean</th>\n",
              "      <th>std</th>\n",
              "      <th>min</th>\n",
              "      <th>25%</th>\n",
              "      <th>50%</th>\n",
              "      <th>75%</th>\n",
              "      <th>max</th>\n",
              "    </tr>\n",
              "    <tr>\n",
              "      <th>method</th>\n",
              "      <th></th>\n",
              "      <th></th>\n",
              "      <th></th>\n",
              "      <th></th>\n",
              "      <th></th>\n",
              "      <th></th>\n",
              "      <th></th>\n",
              "      <th></th>\n",
              "    </tr>\n",
              "  </thead>\n",
              "  <tbody>\n",
              "    <tr>\n",
              "      <th>1</th>\n",
              "      <td>5.0</td>\n",
              "      <td>26.780</td>\n",
              "      <td>4.990691</td>\n",
              "      <td>19.1</td>\n",
              "      <td>25.900</td>\n",
              "      <td>27.6</td>\n",
              "      <td>28.50</td>\n",
              "      <td>32.8</td>\n",
              "    </tr>\n",
              "    <tr>\n",
              "      <th>2</th>\n",
              "      <td>4.0</td>\n",
              "      <td>16.375</td>\n",
              "      <td>0.758837</td>\n",
              "      <td>15.3</td>\n",
              "      <td>16.125</td>\n",
              "      <td>16.6</td>\n",
              "      <td>16.85</td>\n",
              "      <td>17.0</td>\n",
              "    </tr>\n",
              "  </tbody>\n",
              "</table>\n",
              "</div>\n",
              "      <button class=\"colab-df-convert\" onclick=\"convertToInteractive('df-aabaa2f3-b916-4fcc-a963-5a6fa55f4595')\"\n",
              "              title=\"Convert this dataframe to an interactive table.\"\n",
              "              style=\"display:none;\">\n",
              "        \n",
              "  <svg xmlns=\"http://www.w3.org/2000/svg\" height=\"24px\"viewBox=\"0 0 24 24\"\n",
              "       width=\"24px\">\n",
              "    <path d=\"M0 0h24v24H0V0z\" fill=\"none\"/>\n",
              "    <path d=\"M18.56 5.44l.94 2.06.94-2.06 2.06-.94-2.06-.94-.94-2.06-.94 2.06-2.06.94zm-11 1L8.5 8.5l.94-2.06 2.06-.94-2.06-.94L8.5 2.5l-.94 2.06-2.06.94zm10 10l.94 2.06.94-2.06 2.06-.94-2.06-.94-.94-2.06-.94 2.06-2.06.94z\"/><path d=\"M17.41 7.96l-1.37-1.37c-.4-.4-.92-.59-1.43-.59-.52 0-1.04.2-1.43.59L10.3 9.45l-7.72 7.72c-.78.78-.78 2.05 0 2.83L4 21.41c.39.39.9.59 1.41.59.51 0 1.02-.2 1.41-.59l7.78-7.78 2.81-2.81c.8-.78.8-2.07 0-2.86zM5.41 20L4 18.59l7.72-7.72 1.47 1.35L5.41 20z\"/>\n",
              "  </svg>\n",
              "      </button>\n",
              "      \n",
              "  <style>\n",
              "    .colab-df-container {\n",
              "      display:flex;\n",
              "      flex-wrap:wrap;\n",
              "      gap: 12px;\n",
              "    }\n",
              "\n",
              "    .colab-df-convert {\n",
              "      background-color: #E8F0FE;\n",
              "      border: none;\n",
              "      border-radius: 50%;\n",
              "      cursor: pointer;\n",
              "      display: none;\n",
              "      fill: #1967D2;\n",
              "      height: 32px;\n",
              "      padding: 0 0 0 0;\n",
              "      width: 32px;\n",
              "    }\n",
              "\n",
              "    .colab-df-convert:hover {\n",
              "      background-color: #E2EBFA;\n",
              "      box-shadow: 0px 1px 2px rgba(60, 64, 67, 0.3), 0px 1px 3px 1px rgba(60, 64, 67, 0.15);\n",
              "      fill: #174EA6;\n",
              "    }\n",
              "\n",
              "    [theme=dark] .colab-df-convert {\n",
              "      background-color: #3B4455;\n",
              "      fill: #D2E3FC;\n",
              "    }\n",
              "\n",
              "    [theme=dark] .colab-df-convert:hover {\n",
              "      background-color: #434B5C;\n",
              "      box-shadow: 0px 1px 3px 1px rgba(0, 0, 0, 0.15);\n",
              "      filter: drop-shadow(0px 1px 2px rgba(0, 0, 0, 0.3));\n",
              "      fill: #FFFFFF;\n",
              "    }\n",
              "  </style>\n",
              "\n",
              "      <script>\n",
              "        const buttonEl =\n",
              "          document.querySelector('#df-aabaa2f3-b916-4fcc-a963-5a6fa55f4595 button.colab-df-convert');\n",
              "        buttonEl.style.display =\n",
              "          google.colab.kernel.accessAllowed ? 'block' : 'none';\n",
              "\n",
              "        async function convertToInteractive(key) {\n",
              "          const element = document.querySelector('#df-aabaa2f3-b916-4fcc-a963-5a6fa55f4595');\n",
              "          const dataTable =\n",
              "            await google.colab.kernel.invokeFunction('convertToInteractive',\n",
              "                                                     [key], {});\n",
              "          if (!dataTable) return;\n",
              "\n",
              "          const docLinkHtml = 'Like what you see? Visit the ' +\n",
              "            '<a target=\"_blank\" href=https://colab.research.google.com/notebooks/data_table.ipynb>data table notebook</a>'\n",
              "            + ' to learn more about interactive tables.';\n",
              "          element.innerHTML = '';\n",
              "          dataTable['output_type'] = 'display_data';\n",
              "          await google.colab.output.renderOutput(dataTable, element);\n",
              "          const docLink = document.createElement('div');\n",
              "          docLink.innerHTML = docLinkHtml;\n",
              "          element.appendChild(docLink);\n",
              "        }\n",
              "      </script>\n",
              "    </div>\n",
              "  </div>\n",
              "  "
            ]
          },
          "metadata": {},
          "execution_count": 23
        }
      ]
    },
    {
      "cell_type": "code",
      "source": [
        "x1 = df.loc[df.method ==1].pumx\n",
        "x1\n",
        "x2 = df.loc[df.method==2].pumx\n",
        "x2"
      ],
      "metadata": {
        "colab": {
          "base_uri": "https://localhost:8080/"
        },
        "id": "2BH1NXzUoqxt",
        "outputId": "c0d116a7-a9d5-4bb8-c109-da7b3aa54829"
      },
      "execution_count": 24,
      "outputs": [
        {
          "output_type": "execute_result",
          "data": {
            "text/plain": [
              "5    17.0\n",
              "6    16.4\n",
              "7    16.8\n",
              "8    15.3\n",
              "Name: pumx, dtype: float64"
            ]
          },
          "metadata": {},
          "execution_count": 24
        }
      ]
    },
    {
      "cell_type": "code",
      "source": [
        "## 두 집단의 분산이 같다고 가정\n",
        "result1 = stats.ttest_ind(x1, x2, equal_var=True)\n",
        "print(\"두집단분산같다 / t값: {}, / p값: {}\".format(result1[0], result1[1]))\n",
        "# alpha = 0.05\n",
        "if result1[1] > alpha :\n",
        "  print(\"p-값: \",result3[1],\"\\nH0을 기각하지 못한다. => 두 집단 평균 같지 않다고 할 수 없다.\")\n",
        "else:\n",
        "  print(\"p-값: \",result3[1],\"\\nH0을 기각 => 두집단 평균 같지 않다.\")\n",
        "\n",
        "## 두 집단의 분산이 다르다고 가정\n",
        "result2 = stats.ttest_ind(x1,x2, equal_var=False)\n",
        "print(\"\\n\\n두집단분산다르다 / t값: {}, / p값: {}\".format(result2[0], result2[1]))\n",
        "# alpha = 0.05\n",
        "if result2[1] > alpha :\n",
        "  print(\"p-값: \",result2[1],\"\\nH0을 기각하지 못한다. => 두 집단 평균 같지 않다고 할 수 없다.\")\n",
        "else:\n",
        "  print(\"p-값: \",result2[1],\"\\nH0을 기각 => 두집단 평균 같지 않다.\")"
      ],
      "metadata": {
        "colab": {
          "base_uri": "https://localhost:8080/"
        },
        "id": "NozPnFe2qn_O",
        "outputId": "d6e84057-005e-4cc3-d860-2ce11e8760a7"
      },
      "execution_count": 25,
      "outputs": [
        {
          "output_type": "stream",
          "name": "stdout",
          "text": [
            "두집단분산같다 / t값: 4.076253525765535, / p값: 0.004711895738553825\n",
            "p-값:  0.7455323834085559 \n",
            "H0을 기각 => 두집단 평균 같지 않다.\n",
            "\n",
            "\n",
            "두집단분산다르다 / t값: 4.595999444892206, / p값: 0.00880963056643966\n",
            "p-값:  0.00880963056643966 \n",
            "H0을 기각 => 두집단 평균 같지 않다.\n"
          ]
        }
      ]
    },
    {
      "cell_type": "markdown",
      "source": [
        "## 대응표본 검정\n",
        "- 앞에 했던 이집단 t-검정은 독립표본 t-검정\n",
        "- 짝지어진 표본에 대해서는 대응표본 t-검정 (Paired T-test)\n",
        "\n",
        "예) 검사 전 후 비교, 수강 전 후 비교"
      ],
      "metadata": {
        "id": "ZiinzDpEtk7V"
      }
    },
    {
      "cell_type": "code",
      "source": [
        "# 예제 7.5\n",
        "# A 대학 학생 10명 강좌 수강전후 시험 점수 비교\n",
        "pre = np.array([77, 56, 64, 60,58,72,67,78,67,79])\n",
        "post = np.array([99,80,78,65,59,67,65,85,74,80])\n",
        "result5 =stats.ttest_1samp(post-pre,0)\n",
        "if result5[1] > alpha :\n",
        "  print(\"t값: \",result5[0],\"\\n\")\n",
        "  print(\"p-값: \",result5[1],\"\\nH0을 기각하지 못한다. => 점수차이 없으므로 효과X\")\n",
        "else:\n",
        "  print(\"t값: \",result5[0],\"\\n\")\n",
        "  print(\"p-값: \",result5[1],\"\\nH0을 기각 => 점수차이유의하므로 효과O\")"
      ],
      "metadata": {
        "colab": {
          "base_uri": "https://localhost:8080/"
        },
        "id": "qmXo47MFuFhr",
        "outputId": "a53eacb9-6d56-4778-a226-871f9c339972"
      },
      "execution_count": 26,
      "outputs": [
        {
          "output_type": "stream",
          "name": "stdout",
          "text": [
            "t값:  2.3905542320094115 \n",
            "\n",
            "p-값:  0.040520555728096784 \n",
            "H0을 기각 => 점수차이유의하므로 효과O\n"
          ]
        }
      ]
    },
    {
      "cell_type": "code",
      "source": [
        "## 20221205 발견\n",
        "# 대응표본검정은 stats.ttest_rel() 사용하면된다.\n",
        "# A 대학 학생 10명 강좌 수강전후 시험 점수 비교\n",
        "result5_ = stats.ttest_rel(post, pre)\n",
        "if result5_[1] > alpha :\n",
        "  print(\"t값: \",result5_[0],\"\\n\")\n",
        "  print(\"p-값: \",result5_[1],\"\\nH0을 기각하지 못한다. => 점수차이 없으므로 효과X\")\n",
        "else:\n",
        "  print(\"t값: \",result5_[0],\"\\n\")\n",
        "  print(\"p-값: \",result5_[1],\"\\nH0을 기각 => 점수차이유의하므로 효과O\")"
      ],
      "metadata": {
        "colab": {
          "base_uri": "https://localhost:8080/"
        },
        "id": "m7NhCW4ZIPP2",
        "outputId": "500dfd52-4986-49df-e694-54c0b87f036b"
      },
      "execution_count": 27,
      "outputs": [
        {
          "output_type": "stream",
          "name": "stdout",
          "text": [
            "t값:  2.3905542320094115 \n",
            "\n",
            "p-값:  0.040520555728096784 \n",
            "H0을 기각 => 점수차이유의하므로 효과O\n"
          ]
        }
      ]
    },
    {
      "cell_type": "markdown",
      "source": [
        "-----\n"
      ],
      "metadata": {
        "id": "qIfOE-vnvZgF"
      }
    },
    {
      "cell_type": "markdown",
      "source": [
        "## [$F$ - 검정]\n",
        "\n",
        "- 두 개 표본에서 모분산비에 대한 통계적 검정\n",
        "- 이집단t-검정 할 때 모분산이 같은지, 안같은지 먼저 선행 후 t-검정 진행함<br>=> 두 집단의 모분산이 같다 => t-검정 오케오케"
      ],
      "metadata": {
        "id": "hFBPcHNKr1CI"
      }
    },
    {
      "cell_type": "code",
      "source": [
        "# 예제 7.4\n",
        "# 예제 7.3.2 모분산 같은가 검정"
      ],
      "metadata": {
        "id": "jWwbCPZtsZ0h"
      },
      "execution_count": null,
      "outputs": []
    },
    {
      "cell_type": "code",
      "source": [
        "a,b\n",
        "F = np.var(a, ddof=1)/np.var(b,ddof=1)\n",
        "df1 = len(a)-1\n",
        "df2 = len(b)-1\n",
        "# alpha = 0.05\n",
        "p_value = 2*(1-scipy.stats.f.cdf(F,df1,df2)) #양측검정\n",
        "print(\"F값: {}\\np-value: {}\".format(F, p_value))\n",
        "# H0 기각 못해서 H0 채택 : 두 집단의 분산은 같다고 할 수 있다."
      ],
      "metadata": {
        "colab": {
          "base_uri": "https://localhost:8080/"
        },
        "id": "lJH-C4K4sh0g",
        "outputId": "87c772a5-ae2f-455d-e21a-e409e1adc6a4"
      },
      "execution_count": null,
      "outputs": [
        {
          "output_type": "stream",
          "name": "stdout",
          "text": [
            "F값: 2.8894736842105258\n",
            "p-value: 0.5465404498283244\n"
          ]
        }
      ]
    },
    {
      "cell_type": "markdown",
      "source": [
        "##[$Z$ - 검정]"
      ],
      "metadata": {
        "id": "g8J11yRrxQzx"
      }
    },
    {
      "cell_type": "code",
      "source": [
        "from statsmodels.stats.proportion import proportions_ztest"
      ],
      "metadata": {
        "id": "H79tDscD1kZ2"
      },
      "execution_count": null,
      "outputs": []
    },
    {
      "cell_type": "markdown",
      "source": [
        "##일집단 모비율에 대한 검정\n",
        "- 표본비율 ~ $p=x/n$\n",
        "- $Z^2$은 근사적으로 $x_{1}^2$ 분포 따름<br> => 모비율에 대한 카이제곱검정 "
      ],
      "metadata": {
        "id": "rDvOn5pS05SQ"
      }
    },
    {
      "cell_type": "code",
      "source": [
        "# 예제 7.6\n",
        "# 85% 효과있다 ~ 표본 : 150마리 -> 110마리 죽음"
      ],
      "metadata": {
        "id": "iN5qwh0NyRan"
      },
      "execution_count": null,
      "outputs": []
    },
    {
      "cell_type": "code",
      "source": [
        "# 일집단 모비율 검정\n",
        "count = 110\n",
        "nobs = 150\n",
        "value = 0.85\n",
        "prop = count/nobs\n",
        "stat, pval = proportions_ztest(count, nobs, value)"
      ],
      "metadata": {
        "id": "MoAuvu8jygSv"
      },
      "execution_count": null,
      "outputs": []
    },
    {
      "cell_type": "code",
      "source": [
        "# 양측검정 : H0 : p=0.85 : H1 : p!=0.85\n",
        "print(\"prop: \", prop, \"\\nz-stat: \",stat)\n",
        "if pval > alpha :\n",
        "  print(\"p-값: \",pval,\"\\nH0을 기각하지 못한다. => 차이 없으므로 광고믿을수O\")\n",
        "else:\n",
        "  print(\"p-값: \",pval,\"\\nH0을 기각 => 차이유의하므로 광고믿을수X\")"
      ],
      "metadata": {
        "colab": {
          "base_uri": "https://localhost:8080/"
        },
        "id": "ygZZ7LVPzHY2",
        "outputId": "ad22f777-9234-489e-a984-9cf62fb75ae7"
      },
      "execution_count": null,
      "outputs": [
        {
          "output_type": "stream",
          "name": "stdout",
          "text": [
            "prop:  0.7333333333333333 \n",
            "z-stat:  -3.2311516382074847\n",
            "p-값:  0.0012329251183447925 \n",
            "H0을 기각 => 차이유의하므로 광고믿을수X\n"
          ]
        }
      ]
    },
    {
      "cell_type": "code",
      "source": [
        "# 단측검정(1) : H0 : p>=0.85 : H1 : p<0.85\n",
        "print(\"prop: \", prop, \"\\nz-stat: \",stat)\n",
        "if pval/2 > alpha :\n",
        "  print(\"p-값: \",pval/2,\"\\nH0을 기각하지 못한다. => 85% 이상 효과있다고할 수 O\")\n",
        "else:\n",
        "  print(\"p-값: \",pval/2,\"\\nH0을 기각 => 85% 이상 효과가 있다고 할 수X => 85%작다\")"
      ],
      "metadata": {
        "colab": {
          "base_uri": "https://localhost:8080/"
        },
        "id": "SCakeL5e0It2",
        "outputId": "e6cc0daf-820d-4230-869f-0a6de1e7473d"
      },
      "execution_count": null,
      "outputs": [
        {
          "output_type": "stream",
          "name": "stdout",
          "text": [
            "prop:  0.7333333333333333 \n",
            "z-stat:  -3.2311516382074847\n",
            "p-값:  0.0006164625591723962 \n",
            "H0을 기각 => 85% 이상 효과가 있다고 할 수X => 85%작다\n"
          ]
        }
      ]
    },
    {
      "cell_type": "code",
      "source": [
        "# 단측검정(2) : H0 : p<=0.85 : H1 : p>0.85\n",
        "print(\"prop: \", prop, \"\\nz-stat: \",stat)\n",
        "if (1-pval) > alpha :\n",
        "  print(\"p-값: \",(1-pval),\"\\nH0을 기각하지 못한다. => 85%이하라고 할 수 O\")\n",
        "else:\n",
        "  print(\"p-값: \",(1-pval),\"\\nH0을 기각 => 85% 이하 효과 할 수X => 85%보다크다\")"
      ],
      "metadata": {
        "colab": {
          "base_uri": "https://localhost:8080/"
        },
        "id": "AwZZEsvy1C4F",
        "outputId": "23f29569-2993-4689-aef5-02f8cb4798ad"
      },
      "execution_count": null,
      "outputs": [
        {
          "output_type": "stream",
          "name": "stdout",
          "text": [
            "prop:  0.7333333333333333 \n",
            "z-stat:  -3.2311516382074847\n",
            "p-값:  0.9987670748816552 \n",
            "H0을 기각하지 못한다. => 85%이하라고 할 수 O\n"
          ]
        }
      ]
    },
    {
      "cell_type": "markdown",
      "source": [
        "## 이집단 모비율에 대한 검정"
      ],
      "metadata": {
        "id": "EhuGw0GV1b4T"
      }
    },
    {
      "cell_type": "code",
      "source": [
        "# 예제 7.7\n",
        "# A 도시와 B도시의 D후보 지지비율 같다고 할 수 있나.\n",
        "count = np.array([100, 170])\n",
        "nobs = np.array([300, 400])\n",
        "prop = count/ nobs\n",
        "stat, pval = proportions_ztest(count, nobs)"
      ],
      "metadata": {
        "id": "VhaEfiKO1mv9"
      },
      "execution_count": null,
      "outputs": []
    },
    {
      "cell_type": "code",
      "source": [
        "# 양측검정 : H0 : p1=p2 : H1 : p1!=p2\n",
        "print(\"prop: \", prop, \"\\nz-stat: \",stat)\n",
        "if pval > alpha :\n",
        "  print(\"p-값: \",pval,\"\\nH0을 기각하지 못한다. => 두 지지비율 차이있다고할 수X\")\n",
        "else:\n",
        "  print(\"p-값: \",pval,\"\\nH0을 기각 => 두 지지비율 차이있다고 할 수 있다.\")"
      ],
      "metadata": {
        "colab": {
          "base_uri": "https://localhost:8080/"
        },
        "id": "KRv-NHbl19rO",
        "outputId": "a93ff432-d2b2-498b-f144-4ab03b73804c"
      },
      "execution_count": null,
      "outputs": [
        {
          "output_type": "stream",
          "name": "stdout",
          "text": [
            "prop:  [0.33333333 0.425     ] \n",
            "z-stat:  -2.4656701201792273\n",
            "p-값:  0.013675721698622408 \n",
            "H0을 기각 => 두 지지비율 차이있다고 할 수 있다.\n"
          ]
        }
      ]
    },
    {
      "cell_type": "markdown",
      "source": [
        "##[카이제곱 $X^2$ 검정]\n",
        "\n",
        "이산형 or 범주형 데이터<br>\n",
        "=> 두 개의 범주형 변수 간에 관련성 알아보기<br>\n",
        "=> 두 변수간 독립? 독립X?<p>\n",
        "- cf. 범주형 변수가 3개 이상 => 로그선형 or 로지스틱 회귀모형 등 이용\n",
        "\n",
        "<p>\n",
        "예) 어떤 과자를 만드는 공장에서 나온 제품의 당도가 일정한지 알고 싶을 때<br>\n",
        "월마트 맥주 - 기저귀 구매 관련성 영수증 분석"
      ],
      "metadata": {
        "id": "_X_ZH4s-3Ok5"
      }
    },
    {
      "cell_type": "markdown",
      "source": [
        "### t-검정 / z-검정 / 카이제곱검정\n",
        "1부터 6까지 숫자가 적힌 카드가 들어있는 상자에서 복원추출\n",
        "- 상자의 평균이 3.5라는 가설을 검정: z – 검정, t - 검정\n",
        "- 각 카드가 나올 확률이 1/6 씩이라는 가설을 검정: $X^2$ - 검정\n",
        "\n",
        "카이제곱 검정은 상자의 내용 구성이 알려져 있을 때 관측된 자료를 이 상자로부터 무작위 추출한 결과로 볼 수 있는지 알려준다.\n",
        "z-검정 또는 t-검정은 상자의 평균만 주어져 있을 때 관측된 자료를 이 상자로부터 무작위 추출한 결과로 볼 수 있는지 알려준다."
      ],
      "metadata": {
        "id": "YJJG8nODsWAa"
      }
    },
    {
      "cell_type": "markdown",
      "source": [
        "### 카이검정 유효성 문제\n",
        "- $범주 k=2, 자유도 df=1$일때 각 칸의 기대도수 $>=5$ <br>=> 카이제곱검정 유효\n",
        "- $k>2, df>1$일때 전체 칸의 20% 이상이 기대도수 $<=5$ <br>=> 카이제곱검정 유효X "
      ],
      "metadata": {
        "id": "HrF5MRFW4bjW"
      }
    },
    {
      "cell_type": "markdown",
      "source": [
        "### <a href = https://blog.naver.com/yk60park/221913825665>우도비검정법, 가능도비검정법 LR (Likelihood Ratio Test)</a>\n",
        ": 모형 두 개의 우도의 비를 계산해서 두 모형의 우도가 유의하게 차이 나는지 비교하는 방법\n",
        "\n",
        "- 종속변수와 독립변수가 비선형관계인 일반화 선형모형에서 유의한 독립변수를 선택하는 주요 방법 중 하나\n",
        "<br><i> cf. 종속변수와 독립변수가 선형관계 일때 ~ 선형회귀분석에서 최소제곱법을 통해 회귀식 추정</i><br>\n",
        "\n",
        "- 우도 = 가능도<br>\n",
        "  - 모수로부터 특정 현상이 관찰되는 것: 확률\n",
        "  - 확률 <-> 우도 likelyhood\n",
        "- 주어진 현상을 통해 이 현상이 나타날 가능성을 가장 높게 하는. 우도가 가장 높은 모수를 거꾸로 추적하는 방법 (최대우도법)\n",
        "- 로그우도비값 LR-ratio\n"
      ],
      "metadata": {
        "id": "ysMP9rdI83VN"
      }
    },
    {
      "cell_type": "markdown",
      "source": [
        "### python) 데이터 빈도표가 주어진 경우"
      ],
      "metadata": {
        "id": "jilYTVAS47n-"
      }
    },
    {
      "cell_type": "code",
      "source": [
        "# 예제 8.1.1\n",
        "obs = np.array([[54,45],[63,65]])\n",
        "zresult1=scipy.stats.chi2_contingency(obs)\n",
        "zresult1\n",
        "# 여기서 1은 dof(자유도), 뒤에 array는 귀무가설하에서 기대도수"
      ],
      "metadata": {
        "colab": {
          "base_uri": "https://localhost:8080/"
        },
        "id": "PMFNQMXz44oo",
        "outputId": "ce7378dc-cc03-4c53-c50a-e14971a8e0f0"
      },
      "execution_count": null,
      "outputs": [
        {
          "output_type": "execute_result",
          "data": {
            "text/plain": [
              "(0.4388354133678475, 0.5076850879394676, 1, array([[51.02643172, 47.97356828],\n",
              "        [65.97356828, 62.02643172]]))"
            ]
          },
          "metadata": {},
          "execution_count": 115
        }
      ]
    },
    {
      "cell_type": "code",
      "source": [
        "print(\"카이제곱검정 값: {}\\np-value: {}\".format(zresult1[0],zresult1[1]))\n",
        "#alpha = 0.05\n",
        "if zresult1[1] > alpha :\n",
        "  print(\"\\nH0을 기각하지 못한다. => 두 변수는 서로 독립\")\n",
        "else:\n",
        "  print(\"\\nH0을 기각 => 두 변수는 서로 독립XX\")"
      ],
      "metadata": {
        "colab": {
          "base_uri": "https://localhost:8080/"
        },
        "id": "HiH2sFqM5_gd",
        "outputId": "272c306a-c5a3-4a8e-a785-76b53256c82a"
      },
      "execution_count": null,
      "outputs": [
        {
          "output_type": "stream",
          "name": "stdout",
          "text": [
            "카이제곱검정 값: 0.4388354133678475\n",
            "p-value: 0.5076850879394676\n",
            "\n",
            "H0을 기각하지 못한다. => 두 변수는 서로 독립\n"
          ]
        }
      ]
    },
    {
      "cell_type": "code",
      "source": [
        "## 연속성 보정여부 옵션 correction (defualt : True )\n",
        "zresult2 = scipy.stats.chi2_contingency(obs, correction=False)\n",
        "print(\"카이제곱검정 값: {}\\np-value: {}\".format(zresult2[0],zresult2[1]))"
      ],
      "metadata": {
        "colab": {
          "base_uri": "https://localhost:8080/"
        },
        "id": "XXR1aDJm6bfI",
        "outputId": "e1d2cece-ffd2-434a-df4b-fc53086c9be6"
      },
      "execution_count": null,
      "outputs": [
        {
          "output_type": "stream",
          "name": "stdout",
          "text": [
            "카이제곱검정 값: 0.6341758383661797\n",
            "p-value: 0.42582771346019044\n"
          ]
        }
      ]
    },
    {
      "cell_type": "code",
      "source": [
        "## 로그우도함수를 이용한 카이제곱검정 이용 옵션 lambda_=\"log-likelihood\"\n",
        "zresult3 = scipy.stats.chi2_contingency(obs, lambda_=\"log-likelihood\")\n",
        "print(\"카이제곱검정 값: {}\\np-value: {}\".format(zresult3[0],zresult3[1]))"
      ],
      "metadata": {
        "colab": {
          "base_uri": "https://localhost:8080/"
        },
        "id": "DgwB2A2j65Z9",
        "outputId": "fc0bb1a3-0800-4eac-8136-234e5d00f5d4"
      },
      "execution_count": null,
      "outputs": [
        {
          "output_type": "stream",
          "name": "stdout",
          "text": [
            "카이제곱검정 값: 0.4390893786184531\n",
            "p-value: 0.5075623012649697\n"
          ]
        }
      ]
    },
    {
      "cell_type": "markdown",
      "source": [
        "### python) 데이터가 개체에 대한 정보로 주어진 경우\u001b"
      ],
      "metadata": {
        "id": "NF2Txqcq_Dsp"
      }
    },
    {
      "cell_type": "code",
      "source": [
        "# 예제 8.1.2(a)\n",
        "# 성별과 입학 여부 간에 관계가 있다고 할 수 있는지, alpha = 0.05\n",
        "id = np.array(range(1,13))\n",
        "gender = np.array(['M','M','M','M','M','M','F','F','F','F','F','M'])\n",
        "admit = np.array(['Y','Y','Y','Y','N','Y','Y','Y','N','N','Y','Y'])\n",
        "df = pd.DataFrame({\"id\":id, \"gender\":gender, \"admit\":admit})\n",
        "df"
      ],
      "metadata": {
        "colab": {
          "base_uri": "https://localhost:8080/",
          "height": 426
        },
        "id": "PXhApBBs_cNZ",
        "outputId": "32b65a3e-489a-48d9-ba18-69f74eb7fb87"
      },
      "execution_count": null,
      "outputs": [
        {
          "output_type": "execute_result",
          "data": {
            "text/plain": [
              "    id gender admit\n",
              "0    1      M     Y\n",
              "1    2      M     Y\n",
              "2    3      M     Y\n",
              "3    4      M     Y\n",
              "4    5      M     N\n",
              "5    6      M     Y\n",
              "6    7      F     Y\n",
              "7    8      F     Y\n",
              "8    9      F     N\n",
              "9   10      F     N\n",
              "10  11      F     Y\n",
              "11  12      M     Y"
            ],
            "text/html": [
              "\n",
              "  <div id=\"df-5c00bbd7-ba34-4e15-a25e-06d3fd0087e9\">\n",
              "    <div class=\"colab-df-container\">\n",
              "      <div>\n",
              "<style scoped>\n",
              "    .dataframe tbody tr th:only-of-type {\n",
              "        vertical-align: middle;\n",
              "    }\n",
              "\n",
              "    .dataframe tbody tr th {\n",
              "        vertical-align: top;\n",
              "    }\n",
              "\n",
              "    .dataframe thead th {\n",
              "        text-align: right;\n",
              "    }\n",
              "</style>\n",
              "<table border=\"1\" class=\"dataframe\">\n",
              "  <thead>\n",
              "    <tr style=\"text-align: right;\">\n",
              "      <th></th>\n",
              "      <th>id</th>\n",
              "      <th>gender</th>\n",
              "      <th>admit</th>\n",
              "    </tr>\n",
              "  </thead>\n",
              "  <tbody>\n",
              "    <tr>\n",
              "      <th>0</th>\n",
              "      <td>1</td>\n",
              "      <td>M</td>\n",
              "      <td>Y</td>\n",
              "    </tr>\n",
              "    <tr>\n",
              "      <th>1</th>\n",
              "      <td>2</td>\n",
              "      <td>M</td>\n",
              "      <td>Y</td>\n",
              "    </tr>\n",
              "    <tr>\n",
              "      <th>2</th>\n",
              "      <td>3</td>\n",
              "      <td>M</td>\n",
              "      <td>Y</td>\n",
              "    </tr>\n",
              "    <tr>\n",
              "      <th>3</th>\n",
              "      <td>4</td>\n",
              "      <td>M</td>\n",
              "      <td>Y</td>\n",
              "    </tr>\n",
              "    <tr>\n",
              "      <th>4</th>\n",
              "      <td>5</td>\n",
              "      <td>M</td>\n",
              "      <td>N</td>\n",
              "    </tr>\n",
              "    <tr>\n",
              "      <th>5</th>\n",
              "      <td>6</td>\n",
              "      <td>M</td>\n",
              "      <td>Y</td>\n",
              "    </tr>\n",
              "    <tr>\n",
              "      <th>6</th>\n",
              "      <td>7</td>\n",
              "      <td>F</td>\n",
              "      <td>Y</td>\n",
              "    </tr>\n",
              "    <tr>\n",
              "      <th>7</th>\n",
              "      <td>8</td>\n",
              "      <td>F</td>\n",
              "      <td>Y</td>\n",
              "    </tr>\n",
              "    <tr>\n",
              "      <th>8</th>\n",
              "      <td>9</td>\n",
              "      <td>F</td>\n",
              "      <td>N</td>\n",
              "    </tr>\n",
              "    <tr>\n",
              "      <th>9</th>\n",
              "      <td>10</td>\n",
              "      <td>F</td>\n",
              "      <td>N</td>\n",
              "    </tr>\n",
              "    <tr>\n",
              "      <th>10</th>\n",
              "      <td>11</td>\n",
              "      <td>F</td>\n",
              "      <td>Y</td>\n",
              "    </tr>\n",
              "    <tr>\n",
              "      <th>11</th>\n",
              "      <td>12</td>\n",
              "      <td>M</td>\n",
              "      <td>Y</td>\n",
              "    </tr>\n",
              "  </tbody>\n",
              "</table>\n",
              "</div>\n",
              "      <button class=\"colab-df-convert\" onclick=\"convertToInteractive('df-5c00bbd7-ba34-4e15-a25e-06d3fd0087e9')\"\n",
              "              title=\"Convert this dataframe to an interactive table.\"\n",
              "              style=\"display:none;\">\n",
              "        \n",
              "  <svg xmlns=\"http://www.w3.org/2000/svg\" height=\"24px\"viewBox=\"0 0 24 24\"\n",
              "       width=\"24px\">\n",
              "    <path d=\"M0 0h24v24H0V0z\" fill=\"none\"/>\n",
              "    <path d=\"M18.56 5.44l.94 2.06.94-2.06 2.06-.94-2.06-.94-.94-2.06-.94 2.06-2.06.94zm-11 1L8.5 8.5l.94-2.06 2.06-.94-2.06-.94L8.5 2.5l-.94 2.06-2.06.94zm10 10l.94 2.06.94-2.06 2.06-.94-2.06-.94-.94-2.06-.94 2.06-2.06.94z\"/><path d=\"M17.41 7.96l-1.37-1.37c-.4-.4-.92-.59-1.43-.59-.52 0-1.04.2-1.43.59L10.3 9.45l-7.72 7.72c-.78.78-.78 2.05 0 2.83L4 21.41c.39.39.9.59 1.41.59.51 0 1.02-.2 1.41-.59l7.78-7.78 2.81-2.81c.8-.78.8-2.07 0-2.86zM5.41 20L4 18.59l7.72-7.72 1.47 1.35L5.41 20z\"/>\n",
              "  </svg>\n",
              "      </button>\n",
              "      \n",
              "  <style>\n",
              "    .colab-df-container {\n",
              "      display:flex;\n",
              "      flex-wrap:wrap;\n",
              "      gap: 12px;\n",
              "    }\n",
              "\n",
              "    .colab-df-convert {\n",
              "      background-color: #E8F0FE;\n",
              "      border: none;\n",
              "      border-radius: 50%;\n",
              "      cursor: pointer;\n",
              "      display: none;\n",
              "      fill: #1967D2;\n",
              "      height: 32px;\n",
              "      padding: 0 0 0 0;\n",
              "      width: 32px;\n",
              "    }\n",
              "\n",
              "    .colab-df-convert:hover {\n",
              "      background-color: #E2EBFA;\n",
              "      box-shadow: 0px 1px 2px rgba(60, 64, 67, 0.3), 0px 1px 3px 1px rgba(60, 64, 67, 0.15);\n",
              "      fill: #174EA6;\n",
              "    }\n",
              "\n",
              "    [theme=dark] .colab-df-convert {\n",
              "      background-color: #3B4455;\n",
              "      fill: #D2E3FC;\n",
              "    }\n",
              "\n",
              "    [theme=dark] .colab-df-convert:hover {\n",
              "      background-color: #434B5C;\n",
              "      box-shadow: 0px 1px 3px 1px rgba(0, 0, 0, 0.15);\n",
              "      filter: drop-shadow(0px 1px 2px rgba(0, 0, 0, 0.3));\n",
              "      fill: #FFFFFF;\n",
              "    }\n",
              "  </style>\n",
              "\n",
              "      <script>\n",
              "        const buttonEl =\n",
              "          document.querySelector('#df-5c00bbd7-ba34-4e15-a25e-06d3fd0087e9 button.colab-df-convert');\n",
              "        buttonEl.style.display =\n",
              "          google.colab.kernel.accessAllowed ? 'block' : 'none';\n",
              "\n",
              "        async function convertToInteractive(key) {\n",
              "          const element = document.querySelector('#df-5c00bbd7-ba34-4e15-a25e-06d3fd0087e9');\n",
              "          const dataTable =\n",
              "            await google.colab.kernel.invokeFunction('convertToInteractive',\n",
              "                                                     [key], {});\n",
              "          if (!dataTable) return;\n",
              "\n",
              "          const docLinkHtml = 'Like what you see? Visit the ' +\n",
              "            '<a target=\"_blank\" href=https://colab.research.google.com/notebooks/data_table.ipynb>data table notebook</a>'\n",
              "            + ' to learn more about interactive tables.';\n",
              "          element.innerHTML = '';\n",
              "          dataTable['output_type'] = 'display_data';\n",
              "          await google.colab.output.renderOutput(dataTable, element);\n",
              "          const docLink = document.createElement('div');\n",
              "          docLink.innerHTML = docLinkHtml;\n",
              "          element.appendChild(docLink);\n",
              "        }\n",
              "      </script>\n",
              "    </div>\n",
              "  </div>\n",
              "  "
            ]
          },
          "metadata": {},
          "execution_count": 125
        }
      ]
    },
    {
      "cell_type": "code",
      "source": [
        "# 빈도표\n",
        "# df_c = df.groupby(['admit','gender']).agg(admit_count = ('gender','count'))\n",
        "# df_c\n",
        "df_c = pd.crosstab(index = df.admit, columns=df.gender)\n",
        "df_c"
      ],
      "metadata": {
        "colab": {
          "base_uri": "https://localhost:8080/",
          "height": 144
        },
        "id": "BaOJZdzuAfCS",
        "outputId": "1392748a-678e-43cf-a47e-525bbfde2c2a"
      },
      "execution_count": null,
      "outputs": [
        {
          "output_type": "execute_result",
          "data": {
            "text/plain": [
              "gender  F  M\n",
              "admit       \n",
              "N       2  1\n",
              "Y       3  6"
            ],
            "text/html": [
              "\n",
              "  <div id=\"df-132b2525-f34b-4be6-a25d-d1ac4072fd90\">\n",
              "    <div class=\"colab-df-container\">\n",
              "      <div>\n",
              "<style scoped>\n",
              "    .dataframe tbody tr th:only-of-type {\n",
              "        vertical-align: middle;\n",
              "    }\n",
              "\n",
              "    .dataframe tbody tr th {\n",
              "        vertical-align: top;\n",
              "    }\n",
              "\n",
              "    .dataframe thead th {\n",
              "        text-align: right;\n",
              "    }\n",
              "</style>\n",
              "<table border=\"1\" class=\"dataframe\">\n",
              "  <thead>\n",
              "    <tr style=\"text-align: right;\">\n",
              "      <th>gender</th>\n",
              "      <th>F</th>\n",
              "      <th>M</th>\n",
              "    </tr>\n",
              "    <tr>\n",
              "      <th>admit</th>\n",
              "      <th></th>\n",
              "      <th></th>\n",
              "    </tr>\n",
              "  </thead>\n",
              "  <tbody>\n",
              "    <tr>\n",
              "      <th>N</th>\n",
              "      <td>2</td>\n",
              "      <td>1</td>\n",
              "    </tr>\n",
              "    <tr>\n",
              "      <th>Y</th>\n",
              "      <td>3</td>\n",
              "      <td>6</td>\n",
              "    </tr>\n",
              "  </tbody>\n",
              "</table>\n",
              "</div>\n",
              "      <button class=\"colab-df-convert\" onclick=\"convertToInteractive('df-132b2525-f34b-4be6-a25d-d1ac4072fd90')\"\n",
              "              title=\"Convert this dataframe to an interactive table.\"\n",
              "              style=\"display:none;\">\n",
              "        \n",
              "  <svg xmlns=\"http://www.w3.org/2000/svg\" height=\"24px\"viewBox=\"0 0 24 24\"\n",
              "       width=\"24px\">\n",
              "    <path d=\"M0 0h24v24H0V0z\" fill=\"none\"/>\n",
              "    <path d=\"M18.56 5.44l.94 2.06.94-2.06 2.06-.94-2.06-.94-.94-2.06-.94 2.06-2.06.94zm-11 1L8.5 8.5l.94-2.06 2.06-.94-2.06-.94L8.5 2.5l-.94 2.06-2.06.94zm10 10l.94 2.06.94-2.06 2.06-.94-2.06-.94-.94-2.06-.94 2.06-2.06.94z\"/><path d=\"M17.41 7.96l-1.37-1.37c-.4-.4-.92-.59-1.43-.59-.52 0-1.04.2-1.43.59L10.3 9.45l-7.72 7.72c-.78.78-.78 2.05 0 2.83L4 21.41c.39.39.9.59 1.41.59.51 0 1.02-.2 1.41-.59l7.78-7.78 2.81-2.81c.8-.78.8-2.07 0-2.86zM5.41 20L4 18.59l7.72-7.72 1.47 1.35L5.41 20z\"/>\n",
              "  </svg>\n",
              "      </button>\n",
              "      \n",
              "  <style>\n",
              "    .colab-df-container {\n",
              "      display:flex;\n",
              "      flex-wrap:wrap;\n",
              "      gap: 12px;\n",
              "    }\n",
              "\n",
              "    .colab-df-convert {\n",
              "      background-color: #E8F0FE;\n",
              "      border: none;\n",
              "      border-radius: 50%;\n",
              "      cursor: pointer;\n",
              "      display: none;\n",
              "      fill: #1967D2;\n",
              "      height: 32px;\n",
              "      padding: 0 0 0 0;\n",
              "      width: 32px;\n",
              "    }\n",
              "\n",
              "    .colab-df-convert:hover {\n",
              "      background-color: #E2EBFA;\n",
              "      box-shadow: 0px 1px 2px rgba(60, 64, 67, 0.3), 0px 1px 3px 1px rgba(60, 64, 67, 0.15);\n",
              "      fill: #174EA6;\n",
              "    }\n",
              "\n",
              "    [theme=dark] .colab-df-convert {\n",
              "      background-color: #3B4455;\n",
              "      fill: #D2E3FC;\n",
              "    }\n",
              "\n",
              "    [theme=dark] .colab-df-convert:hover {\n",
              "      background-color: #434B5C;\n",
              "      box-shadow: 0px 1px 3px 1px rgba(0, 0, 0, 0.15);\n",
              "      filter: drop-shadow(0px 1px 2px rgba(0, 0, 0, 0.3));\n",
              "      fill: #FFFFFF;\n",
              "    }\n",
              "  </style>\n",
              "\n",
              "      <script>\n",
              "        const buttonEl =\n",
              "          document.querySelector('#df-132b2525-f34b-4be6-a25d-d1ac4072fd90 button.colab-df-convert');\n",
              "        buttonEl.style.display =\n",
              "          google.colab.kernel.accessAllowed ? 'block' : 'none';\n",
              "\n",
              "        async function convertToInteractive(key) {\n",
              "          const element = document.querySelector('#df-132b2525-f34b-4be6-a25d-d1ac4072fd90');\n",
              "          const dataTable =\n",
              "            await google.colab.kernel.invokeFunction('convertToInteractive',\n",
              "                                                     [key], {});\n",
              "          if (!dataTable) return;\n",
              "\n",
              "          const docLinkHtml = 'Like what you see? Visit the ' +\n",
              "            '<a target=\"_blank\" href=https://colab.research.google.com/notebooks/data_table.ipynb>data table notebook</a>'\n",
              "            + ' to learn more about interactive tables.';\n",
              "          element.innerHTML = '';\n",
              "          dataTable['output_type'] = 'display_data';\n",
              "          await google.colab.output.renderOutput(dataTable, element);\n",
              "          const docLink = document.createElement('div');\n",
              "          docLink.innerHTML = docLinkHtml;\n",
              "          element.appendChild(docLink);\n",
              "        }\n",
              "      </script>\n",
              "    </div>\n",
              "  </div>\n",
              "  "
            ]
          },
          "metadata": {},
          "execution_count": 136
        }
      ]
    },
    {
      "cell_type": "code",
      "source": [
        "xresult1 = scipy.stats.chi2_contingency(df_c)\n",
        "print(\"카이제곱검정 값: {}\\np-value: {}\".format(xresult1[0],xresult1[1]))\n",
        "#alpha = 0.05\n",
        "if xresult1[1] > alpha :\n",
        "  print(\"\\nH0을 기각하지 못한다. => 두 변수는 서로 독립\")\n",
        "else:\n",
        "  print(\"\\nH0을 기각 => 두 변수는 서로 독립XX\")"
      ],
      "metadata": {
        "colab": {
          "base_uri": "https://localhost:8080/"
        },
        "id": "FyErY_FFB1RK",
        "outputId": "ab08d7af-374c-4917-a3c9-de9c2295bec8"
      },
      "execution_count": null,
      "outputs": [
        {
          "output_type": "stream",
          "name": "stdout",
          "text": [
            "카이제곱검정 값: 0.11428571428571428\n",
            "p-value: 0.7353166906373405\n",
            "\n",
            "H0을 기각하지 못한다. => 두 변수는 서로 독립\n"
          ]
        }
      ]
    },
    {
      "cell_type": "code",
      "source": [
        "# 예제 8.1.2(b) 음주와 흡연\n",
        "smoke = np.array([[20,30,20,25,30],[20,20,35,37,31],[16,29,40,45,30],[9,10,35,37,31],[10,10,26,39,40]])\n",
        "xresult2 = scipy.stats.chi2_contingency(smoke)\n",
        "print(\"카이제곱검정 값: {}\\np-value: {}\".format(xresult2[0],xresult2[1]))\n",
        "#alpha = 0.05\n",
        "if xresult2[1] > alpha :\n",
        "  print(\"\\nH0을 기각하지 못한다. => 두 변수는 서로 독립\")\n",
        "else:\n",
        "  print(\"\\nH0을 기각 => 두 변수는 서로 독립XX 관련있다\")"
      ],
      "metadata": {
        "colab": {
          "base_uri": "https://localhost:8080/"
        },
        "id": "erOeELuZCKsO",
        "outputId": "5f6dca0c-94b6-4edd-805d-0bc569187888"
      },
      "execution_count": null,
      "outputs": [
        {
          "output_type": "stream",
          "name": "stdout",
          "text": [
            "카이제곱검정 값: 36.92493522962568\n",
            "p-value: 0.0021486902756143325\n",
            "\n",
            "H0을 기각 => 두 변수는 서로 독립XX 관련있다\n"
          ]
        }
      ]
    },
    {
      "cell_type": "markdown",
      "source": [
        "### 카이제곱 적합도 검정 (카이스퀘어)\n",
        ": goodness-of-fit test\n",
        ": 관측 결과가 특정한 분포로부터의 관측값인지를 검정\n",
        "- $H_0$(귀무가설) : 관측값(데이터)는 가정한 확률분포를 따른다.\n",
        "- $H_1$(대립가설) : 관측값(데이터)는 가정한 확률분포를 따르지 않는다.\n",
        "\n",
        "\n",
        "- 카이제곱 검정값 : $Σ(카이제곱 / 기대값)$"
      ],
      "metadata": {
        "id": "Zu0a88Z5DgDR"
      }
    },
    {
      "cell_type": "code",
      "source": [
        "# 예제 8.2(a) 알사탕 한 봉지의 사탕 개수\n",
        "# H0 : p1=p2=p3=p4=0.25 / H1 : 적어도 한개의 pi!=0.25 (i=1,2,3,4)\n",
        "prob = np.array([0.25, 0.25, 0.25, 0.25])\n",
        "n = 100\n",
        "observed = [30,20,27,23]\n",
        "expected = n*prob\n",
        "qresult = scipy.stats.chisquare(f_obs = observed, f_exp = expected)"
      ],
      "metadata": {
        "id": "v2DkkjKmFsLx"
      },
      "execution_count": null,
      "outputs": []
    },
    {
      "cell_type": "code",
      "source": [
        "print(\"카이제곱검정 값: {}\\n자유도: {}\\np-value: {}\".format(qresult[0],4-1,qresult[1]))"
      ],
      "metadata": {
        "colab": {
          "base_uri": "https://localhost:8080/"
        },
        "id": "zqq8RDqNGcAc",
        "outputId": "5ba4ff6a-cd07-4f57-c930-c53ae7f9013c"
      },
      "execution_count": null,
      "outputs": [
        {
          "output_type": "stream",
          "name": "stdout",
          "text": [
            "카이제곱검정 값: 2.3200000000000003\n",
            "자유도: 3\n",
            "p-value: 0.5087002695252654\n"
          ]
        }
      ]
    },
    {
      "cell_type": "markdown",
      "source": [
        "### ??? p.251 자유도 왜 -3? p.252,253 자유도 왜 3?\n",
        "### 카이제곱분포의 자유도\n",
        "일반적으로 카이제곱분포의 자유도는 정의 '독립적인 표준정규분포의 제곱 합'에서 표준정규분포의 개수이다.\n",
        "\n",
        "사회과학의 학부수준의 조사방법론이나 통계학 개론에서 배우는 카이제곱 검정에서는 자료행렬의 행(row)과 열(column)의 숫자에서 1씩을 뺀 후 그 숫자를 곱함으로써, 즉, df = (r-1)(c-1)을 통해 자유도를 구할 수 있다. 이 때 하나의 행만 있을 경우 열의 숫자에서 1을 뺀 숫자가 자유도이다.\\\\\n",
        "\n",
        "---\n",
        "\n",
        "\n",
        "\n",
        "---\n",
        "\n"
      ],
      "metadata": {
        "id": "x84yHmwwG68i"
      }
    },
    {
      "cell_type": "markdown",
      "source": [
        "# Reference\n",
        "- <a href = https://blog.daum.net/geoscience/1454> 파이썬으로 t-검정 계산하기 fest.유의성검정과T-검정</a>\n",
        "- <a href = https://blog.naver.com/modernyoon/221581004731>Z검정, T검정, 부호검정</a>\n",
        "- <a href = https://blog.naver.com/didpql533/222691277811>T-test</a>\n",
        "- <a href =https://velog.io/@yuns_u/%EA%B0%80%EC%84%A4%EA%B2%80%EC%A0%95-%EB%AF%B8%EC%99%84>가설검정 (미완)</a>\n",
        "- <a href = http://www.databaser.net/moniwiki/wiki.php/t%EA%B2%80%EC%A0%95> t검정 단순 정리 </a>\n",
        "- <a href = https://blog.naver.com/oksheo/222512995945> 각 검정 정리 </a>\n",
        "- <a href = https://blog.naver.com/lavenda999/221396494475> t검정, t-test 종류</a>\n",
        "- <a href = https://blog.naver.com/from020/222655500868> 가설 검정 : t검정 (쌍체비교, 등분산가정두집단, 이분산가정두집단)</a>\n",
        "- <a href = https://blog.naver.com/get1ucky/221984877449> 카이제곱 적합도 검정 쉽게 풀이 </a>\n",
        "- <a href = https://free-chicken-forever.tistory.com/109> 카이제곱 검정 종류 </a>\n",
        "- <a href = https://angeloyeo.github.io/2021/12/13/chi_square.html> 카이제곱 분포와 검정</a>\n",
        "- <a href= https://blog.naver.com/pmw9440/221987511761> R - 카이제곱 적합도 검정</a>\n",
        "- <a href=http://www.kmooc.kr/asset-v1:SNUk+SNU212_204_3k+2017+type@asset+block@5.1.4_5.1.5._%EC%B9%B4%EC%9D%B4%EC%8A%A4%ED%80%98%EC%96%B4_%EA%B2%80%EC%A0%95.pdf>카이제곱검정 소개</a>\n",
        "\n",
        "- <a href = https://blog.naver.com/comsa33/222512278636>python을 이용한 T-test</a>\n",
        "- <a href = https://hsm-edu.tistory.com/1425>양측검정과 단측검정의 검정력은 같을까 다를까</a>\n",
        "- <a href = http://wwwdev.kmoocs.kr/asset-v1:SNUk+SNU212.204.3k+2017+type@asset+block@3.2_%EC%9C%A0%EC%9D%98%EC%84%B1_%EA%B2%80%EC%A0%95.pdf>제 18장 유의성 검정</a>\n",
        "- <a href = http://www.kmooc.kr/asset-v1:SNUk+SNU212_204_3k+2018_T1+type@asset+block@6.1.1._%EC%9C%A0%EC%9D%98%EC%84%B1_%EA%B2%80%EC%A0%95%EC%97%90_%EB%8C%80%ED%95%9C_%EB%B3%B4%EC%B6%A9%EC%84%A4%EB%AA%85.pdf>제 22장 유의성 검정에 대한 보충설명</a>\n",
        "- <a href = https://blog.naver.com/mhy563/222051447629>R 통계적 가설 검정 : 두 집단 평균 비교 / T검정</a>\n",
        "- <a href = https://alex-blog.tistory.com/entry/t-test-ANOVA-%EC%89%BD%EA%B2%8C%EC%89%BD%EA%B2%8C-%EA%B8%B0%EC%96%B5%ED%95%98%EC%9E%90> 데이터 분석을 위한 통계(t-test) feat. python</a>\n",
        "- <a href = https://blog.naver.com/crow83/222166616336>가능도비 사용예 - 의학통계</a>"
      ],
      "metadata": {
        "id": "tR3rbAiCh4oN"
      }
    }
  ]
}
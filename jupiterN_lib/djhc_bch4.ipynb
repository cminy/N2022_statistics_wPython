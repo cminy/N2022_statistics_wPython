{
  "nbformat": 4,
  "nbformat_minor": 0,
  "metadata": {
    "colab": {
      "name": "djhc_bch4.ipynb",
      "provenance": [],
      "collapsed_sections": [],
      "authorship_tag": "ABX9TyO94FdY25MBDE0D4dIDHZYP",
      "include_colab_link": true
    },
    "kernelspec": {
      "name": "python3",
      "display_name": "Python 3"
    },
    "language_info": {
      "name": "python"
    }
  },
  "cells": [
    {
      "cell_type": "markdown",
      "metadata": {
        "id": "view-in-github",
        "colab_type": "text"
      },
      "source": [
        "<a href=\"https://colab.research.google.com/github/cminy/cminydev22/blob/main/djhc_bch4.ipynb\" target=\"_parent\"><img src=\"https://colab.research.google.com/assets/colab-badge.svg\" alt=\"Open In Colab\"/></a>"
      ]
    },
    {
      "cell_type": "code",
      "execution_count": null,
      "metadata": {
        "colab": {
          "base_uri": "https://localhost:8080/"
        },
        "id": "PmUyklQnN_yK",
        "outputId": "0fedb938-04de-476c-bcf9-bdb0814567d7"
      },
      "outputs": [
        {
          "output_type": "stream",
          "name": "stderr",
          "text": [
            "/usr/local/lib/python3.7/dist-packages/statsmodels/tools/_testing.py:19: FutureWarning: pandas.util.testing is deprecated. Use the functions in the public API at pandas.testing instead.\n",
            "  import pandas.util.testing as tm\n"
          ]
        }
      ],
      "source": [
        "# DESCRIPTION : 4장 연습문제\n",
        "# -*- coding: utf-8 -*-\n",
        "\n",
        "\n",
        "import pandas as pd\n",
        "from matplotlib import pyplot as plt\n",
        "import seaborn as sns\n",
        "import numpy as np\n",
        "import scipy.stats as stats\n",
        "from math import *\n",
        "import scipy as sp\n",
        "import statsmodels.api as sm\n",
        "import pylab as py"
      ]
    },
    {
      "cell_type": "markdown",
      "source": [
        "#1번 (a)(b)(c)"
      ],
      "metadata": {
        "id": "wi1lqxtlOezR"
      }
    },
    {
      "cell_type": "code",
      "source": [
        "rand = stats.norm.rvs(loc=3, scale=5, size=20)\n",
        "rand\n",
        "print(\"평균: \", rand.mean(), \"  표준편차: \", rand.std())\n",
        "plt.subplot(121)\n",
        "sns.histplot(rand, bins=14)\n",
        "plt.title(\"seaborn\")\n",
        "# -plt와 비교\n",
        "plt.subplot(122)\n",
        "plt.hist(rand)\n",
        "plt.title(\"matplotlib\")\n",
        "plt.show()"
      ],
      "metadata": {
        "colab": {
          "base_uri": "https://localhost:8080/",
          "height": 298
        },
        "id": "MBLDe8FgOi6D",
        "outputId": "06140769-9037-4983-bdb2-89242e802f23"
      },
      "execution_count": null,
      "outputs": [
        {
          "output_type": "stream",
          "name": "stdout",
          "text": [
            "평균:  3.397930490026168   표준편차:  5.68169918216557\n"
          ]
        },
        {
          "output_type": "display_data",
          "data": {
            "text/plain": [
              "<Figure size 432x288 with 2 Axes>"
            ],
            "image/png": "[encoded data removed]"
          },
          "metadata": {
            "needs_background": "light"
          }
        }
      ]
    },
    {
      "cell_type": "markdown",
      "source": [
        "#2번 (a)(b)(c)"
      ],
      "metadata": {
        "id": "GgUk05lePI_w"
      }
    },
    {
      "cell_type": "code",
      "source": [
        "rand_p = stats.poisson.rvs(mu=3, size=10)\n",
        "rand_p"
      ],
      "metadata": {
        "colab": {
          "base_uri": "https://localhost:8080/"
        },
        "id": "BhWZrvbRPHLs",
        "outputId": "ed877f94-18b3-4472-e898-b3c31b859e97"
      },
      "execution_count": null,
      "outputs": [
        {
          "output_type": "execute_result",
          "data": {
            "text/plain": [
              "array([0, 3, 3, 1, 6, 4, 6, 4, 3, 2])"
            ]
          },
          "metadata": {},
          "execution_count": 3
        }
      ]
    },
    {
      "cell_type": "code",
      "source": [
        "print(\"평균: \", rand_p.mean(), \"  표준편차: \", rand_p.std())\n",
        "sns.distplot(rand_p, bins=10, hist=True, kde=False, rug=False)"
      ],
      "metadata": {
        "colab": {
          "base_uri": "https://localhost:8080/",
          "height": 354
        },
        "id": "AVdFC0fsToyS",
        "outputId": "c1e59710-03cb-4fbc-c2af-f627b5468201"
      },
      "execution_count": null,
      "outputs": [
        {
          "output_type": "stream",
          "name": "stdout",
          "text": [
            "평균:  3.2   표준편차:  1.8330302779823362\n"
          ]
        },
        {
          "output_type": "stream",
          "name": "stderr",
          "text": [
            "/usr/local/lib/python3.7/dist-packages/seaborn/distributions.py:2619: FutureWarning: `distplot` is a deprecated function and will be removed in a future version. Please adapt your code to use either `displot` (a figure-level function with similar flexibility) or `histplot` (an axes-level function for histograms).\n",
            "  warnings.warn(msg, FutureWarning)\n"
          ]
        },
        {
          "output_type": "execute_result",
          "data": {
            "text/plain": [
              "<matplotlib.axes._subplots.AxesSubplot at 0x7f73cadb5090>"
            ]
          },
          "metadata": {},
          "execution_count": 4
        },
        {
          "output_type": "display_data",
          "data": {
            "text/plain": [
              "<Figure size 432x288 with 1 Axes>"
            ],
            "image/png": "[encoded data removed]"
          },
          "metadata": {
            "needs_background": "light"
          }
        }
      ]
    },
    {
      "cell_type": "markdown",
      "source": [
        "#3번 (a)"
      ],
      "metadata": {
        "id": "aYspRJCCPnzf"
      }
    },
    {
      "cell_type": "code",
      "source": [
        "a = stats.norm.ppf(loc=10, scale=3, q=0.6)\n",
        "a"
      ],
      "metadata": {
        "colab": {
          "base_uri": "https://localhost:8080/"
        },
        "id": "vlq-we1nPqo_",
        "outputId": "ca9c8258-a5a0-4d8b-8a70-0a7093a9e7ce"
      },
      "execution_count": null,
      "outputs": [
        {
          "output_type": "execute_result",
          "data": {
            "text/plain": [
              "10.760041309407399"
            ]
          },
          "metadata": {},
          "execution_count": 5
        }
      ]
    },
    {
      "cell_type": "code",
      "source": [
        "# - 그래프 그려보기\n",
        "x = np.linspace(0, 20, 100)\n",
        "y = stats.norm.pdf(x, 10, 3)\n",
        "colored = np.linspace(a, 20, 100)\n",
        "y2 = stats.norm.pdf(colored, 10, 3)\n",
        "plt.plot(x, y)\n",
        "plt.fill_between(colored, y2, alpha=0.4)\n",
        "plt.text(15, 0.1, '$P(Z{\\geq}a)$', fontsize=12)\n",
        "plt.show()"
      ],
      "metadata": {
        "colab": {
          "base_uri": "https://localhost:8080/",
          "height": 265
        },
        "id": "3WyV9fs8Pz9m",
        "outputId": "d879bdef-9d68-420c-d461-0f07db0ffe60"
      },
      "execution_count": null,
      "outputs": [
        {
          "output_type": "display_data",
          "data": {
            "text/plain": [
              "<Figure size 432x288 with 1 Axes>"
            ],
            "image/png": "[encoded data removed]"
          },
          "metadata": {
            "needs_background": "light"
          }
        }
      ]
    },
    {
      "cell_type": "markdown",
      "source": [
        "# 3번 (b)(c)"
      ],
      "metadata": {
        "id": "cXsL4jZXQ3lD"
      }
    },
    {
      "cell_type": "code",
      "source": [
        "# -가우시안함수로 함수만들어서 적분으로 구해보기\n",
        "\n",
        "def N(x, u, s2) -> (float):\n",
        "    p = 1 / sqrt(2 * pi * s2) * exp(-pow(x - u, 2) / (2 * s2))\n",
        "    return p\n",
        "\n",
        "\n",
        "def f(x):\n",
        "    return N(x, 10, pow(3, 2))\n",
        "\n",
        "\n",
        "p1 = sp.integrate.quad(f, 12, np.inf)\n",
        "print(p1[0])\n",
        "\n",
        "p2 = sp.integrate.quad(f, 11.5, np.inf)\n",
        "print(1 - p2[0])"
      ],
      "metadata": {
        "colab": {
          "base_uri": "https://localhost:8080/"
        },
        "id": "Jas_KEttP3Bk",
        "outputId": "455e1ac3-c30e-4f42-c59b-4801a1875368"
      },
      "execution_count": null,
      "outputs": [
        {
          "output_type": "stream",
          "name": "stdout",
          "text": [
            "0.2524925375469229\n",
            "0.6914624612740132\n"
          ]
        }
      ]
    },
    {
      "cell_type": "markdown",
      "source": [
        "#4번 (a)(b)(c)"
      ],
      "metadata": {
        "id": "sy5oV_2xQ_LH"
      }
    },
    {
      "cell_type": "code",
      "source": [
        "stats.norm.ppf(loc=0, scale=1, q=0.95)"
      ],
      "metadata": {
        "colab": {
          "base_uri": "https://localhost:8080/"
        },
        "id": "CR5JqUrNRB1V",
        "outputId": "67eb983a-6636-40a4-c97c-addab6e34068"
      },
      "execution_count": null,
      "outputs": [
        {
          "output_type": "execute_result",
          "data": {
            "text/plain": [
              "1.6448536269514722"
            ]
          },
          "metadata": {},
          "execution_count": 8
        }
      ]
    },
    {
      "cell_type": "code",
      "source": [
        "stats.norm.ppf(loc=0, scale=1, q=1 - (1 - 0.95) / 2)"
      ],
      "metadata": {
        "colab": {
          "base_uri": "https://localhost:8080/"
        },
        "id": "SKD2tDp2RkI1",
        "outputId": "4d51bae0-00f7-44a2-d0cf-784574f17974"
      },
      "execution_count": null,
      "outputs": [
        {
          "output_type": "execute_result",
          "data": {
            "text/plain": [
              "1.959963984540054"
            ]
          },
          "metadata": {},
          "execution_count": 9
        }
      ]
    },
    {
      "cell_type": "markdown",
      "source": [
        "#5번"
      ],
      "metadata": {
        "id": "AQTCBsbdRXX2"
      }
    },
    {
      "cell_type": "code",
      "source": [
        "# - 6이 한번이나 두번 나오는 경우 제외\n",
        "1 - stats.binom.cdf(2, 5, 1 / 6)"
      ],
      "metadata": {
        "colab": {
          "base_uri": "https://localhost:8080/"
        },
        "id": "UfUdQZcVRZbu",
        "outputId": "404c332b-ead9-456b-cfac-2bb2d4bbefe6"
      },
      "execution_count": null,
      "outputs": [
        {
          "output_type": "execute_result",
          "data": {
            "text/plain": [
              "0.03549382716049376"
            ]
          },
          "metadata": {},
          "execution_count": 10
        }
      ]
    },
    {
      "cell_type": "markdown",
      "source": [
        "#6번"
      ],
      "metadata": {
        "id": "YkHZCWr0Ro4o"
      }
    },
    {
      "cell_type": "code",
      "source": [
        "p = 1 / 2\n",
        "n = 10000\n",
        "k1 = 4979\n",
        "k2 = 5020\n",
        "\n",
        "stats.binom.cdf(k2, n, p) - stats.binom.cdf(k1, n, p)"
      ],
      "metadata": {
        "colab": {
          "base_uri": "https://localhost:8080/"
        },
        "id": "UwiukeSWRqUn",
        "outputId": "59cb4c34-4ae2-42da-dee9-57f62914f489"
      },
      "execution_count": null,
      "outputs": [
        {
          "output_type": "execute_result",
          "data": {
            "text/plain": [
              "0.3181919670623352"
            ]
          },
          "metadata": {},
          "execution_count": 11
        }
      ]
    },
    {
      "cell_type": "markdown",
      "source": [
        "# 7번 (a)(b)(c)(d)(e)(f)"
      ],
      "metadata": {
        "id": "cZC6LhY-RtQC"
      }
    },
    {
      "cell_type": "code",
      "source": [
        "df = 10\n",
        "stats.t.sf(2.5, df)"
      ],
      "metadata": {
        "colab": {
          "base_uri": "https://localhost:8080/"
        },
        "id": "NpobknTVRv3Z",
        "outputId": "156914ad-9517-4368-b35c-efd2f4eaed23"
      },
      "execution_count": null,
      "outputs": [
        {
          "output_type": "execute_result",
          "data": {
            "text/plain": [
              "0.015723422118304388"
            ]
          },
          "metadata": {},
          "execution_count": 12
        }
      ]
    },
    {
      "cell_type": "code",
      "source": [
        "stats.t.cdf(-2.5, df)"
      ],
      "metadata": {
        "colab": {
          "base_uri": "https://localhost:8080/"
        },
        "id": "NYgOgEfVR_Nc",
        "outputId": "51af283b-0154-4e00-ab95-84d9b80bedd7"
      },
      "execution_count": null,
      "outputs": [
        {
          "output_type": "execute_result",
          "data": {
            "text/plain": [
              "0.015723422118304388"
            ]
          },
          "metadata": {},
          "execution_count": 13
        }
      ]
    },
    {
      "cell_type": "code",
      "source": [
        "# -sf이용하는 경우\n",
        "1 - stats.t.sf(-2.5, df)"
      ],
      "metadata": {
        "colab": {
          "base_uri": "https://localhost:8080/"
        },
        "id": "HdUnSQN6SAfW",
        "outputId": "1574a0af-0657-453d-8b79-6d4243573ce7"
      },
      "execution_count": null,
      "outputs": [
        {
          "output_type": "execute_result",
          "data": {
            "text/plain": [
              "0.015723422118304353"
            ]
          },
          "metadata": {},
          "execution_count": 14
        }
      ]
    },
    {
      "cell_type": "code",
      "source": [
        "stats.t.sf(1.8, df) * 2"
      ],
      "metadata": {
        "colab": {
          "base_uri": "https://localhost:8080/"
        },
        "id": "8UO9MpgwSCuI",
        "outputId": "6e113b64-e08c-4761-811c-bd884c692318"
      },
      "execution_count": null,
      "outputs": [
        {
          "output_type": "execute_result",
          "data": {
            "text/plain": [
              "0.10205224313467903"
            ]
          },
          "metadata": {},
          "execution_count": 15
        }
      ]
    },
    {
      "cell_type": "code",
      "source": [
        "stats.t.sf(2.5, df)"
      ],
      "metadata": {
        "colab": {
          "base_uri": "https://localhost:8080/"
        },
        "id": "4VeMJymASEnY",
        "outputId": "3e441b60-fb51-42a2-9e87-c0713574bdff"
      },
      "execution_count": null,
      "outputs": [
        {
          "output_type": "execute_result",
          "data": {
            "text/plain": [
              "0.015723422118304388"
            ]
          },
          "metadata": {},
          "execution_count": 16
        }
      ]
    },
    {
      "cell_type": "code",
      "source": [
        "stats.t.cdf(-2.5, df)"
      ],
      "metadata": {
        "colab": {
          "base_uri": "https://localhost:8080/"
        },
        "id": "XgM2-JhrSF6_",
        "outputId": "2e1b366b-db10-49de-ebf7-83378d9a7b66"
      },
      "execution_count": null,
      "outputs": [
        {
          "output_type": "execute_result",
          "data": {
            "text/plain": [
              "0.015723422118304388"
            ]
          },
          "metadata": {},
          "execution_count": 17
        }
      ]
    },
    {
      "cell_type": "code",
      "source": [
        "stats.t.cdf(1.5, df) - stats.t.cdf(-1, df)"
      ],
      "metadata": {
        "colab": {
          "base_uri": "https://localhost:8080/"
        },
        "id": "snZ_54WjSHDj",
        "outputId": "9f2b3fad-03b5-4bea-cda1-0ff5b209f82e"
      },
      "execution_count": null,
      "outputs": [
        {
          "output_type": "execute_result",
          "data": {
            "text/plain": [
              "0.7472997706262499"
            ]
          },
          "metadata": {},
          "execution_count": 18
        }
      ]
    },
    {
      "cell_type": "markdown",
      "source": [
        "#8번 (a)(b)(c)(d)"
      ],
      "metadata": {
        "id": "9ULKvDJ1SKkU"
      }
    },
    {
      "cell_type": "code",
      "source": [
        "mu = 3\n",
        "stats.poisson.sf(2, mu)"
      ],
      "metadata": {
        "colab": {
          "base_uri": "https://localhost:8080/"
        },
        "id": "Ki3M1k_RSPNj",
        "outputId": "2526e51d-4f9f-49b4-a53f-2d6487a1a5c6"
      },
      "execution_count": null,
      "outputs": [
        {
          "output_type": "execute_result",
          "data": {
            "text/plain": [
              "0.5768099188731566"
            ]
          },
          "metadata": {},
          "execution_count": 19
        }
      ]
    },
    {
      "cell_type": "code",
      "source": [
        "stats.poisson.cdf(3, mu)"
      ],
      "metadata": {
        "colab": {
          "base_uri": "https://localhost:8080/"
        },
        "id": "0HUYCjhsSQzi",
        "outputId": "e344191a-0029-4e2c-a6af-838909755bbe"
      },
      "execution_count": null,
      "outputs": [
        {
          "output_type": "execute_result",
          "data": {
            "text/plain": [
              "0.6472318887822313"
            ]
          },
          "metadata": {},
          "execution_count": 20
        }
      ]
    },
    {
      "cell_type": "code",
      "source": [
        "stats.poisson.cdf(7, mu) - stats.poisson.cdf(1, mu)"
      ],
      "metadata": {
        "colab": {
          "base_uri": "https://localhost:8080/"
        },
        "id": "QSuaxqRSSS8x",
        "outputId": "4955c7e3-36ab-4fcb-f152-587930adf292"
      },
      "execution_count": null,
      "outputs": [
        {
          "output_type": "execute_result",
          "data": {
            "text/plain": [
              "0.7889472226721868"
            ]
          },
          "metadata": {},
          "execution_count": 21
        }
      ]
    },
    {
      "cell_type": "code",
      "source": [
        "# - 생존함수로 구하려면\n",
        "stats.poisson.sf(1, mu) - stats.poisson.sf(7, mu)"
      ],
      "metadata": {
        "colab": {
          "base_uri": "https://localhost:8080/"
        },
        "id": "SOsIz3ejSUS8",
        "outputId": "00a8d93d-1372-4ba1-ae0a-717999d3b270"
      },
      "execution_count": null,
      "outputs": [
        {
          "output_type": "execute_result",
          "data": {
            "text/plain": [
              "0.7889472226721868"
            ]
          },
          "metadata": {},
          "execution_count": 22
        }
      ]
    },
    {
      "cell_type": "code",
      "source": [
        "stats.poisson.cdf(3, mu)"
      ],
      "metadata": {
        "colab": {
          "base_uri": "https://localhost:8080/"
        },
        "id": "qkEDbiGfSVZs",
        "outputId": "34e10495-54a4-498a-d0fc-0e734b70ff7d"
      },
      "execution_count": null,
      "outputs": [
        {
          "output_type": "execute_result",
          "data": {
            "text/plain": [
              "0.6472318887822313"
            ]
          },
          "metadata": {},
          "execution_count": 23
        }
      ]
    },
    {
      "cell_type": "markdown",
      "source": [
        "# 9번 (a)(b)(c)(d)"
      ],
      "metadata": {
        "id": "kEHOsLRwSYFV"
      }
    },
    {
      "cell_type": "code",
      "source": [
        "arr = np.array([1.5, 2.2, 0.9, 1.3, 2.0, 1.2, 2.5, 2.7, 1.8, 2.3])\n",
        "# - seaborn 이용\n",
        "sns.distplot(arr, bins=4)"
      ],
      "metadata": {
        "colab": {
          "base_uri": "https://localhost:8080/",
          "height": 341
        },
        "id": "VaAfDm54SZZ5",
        "outputId": "ded45483-c542-46e4-ec88-8b7e20f35b23"
      },
      "execution_count": null,
      "outputs": [
        {
          "output_type": "stream",
          "name": "stderr",
          "text": [
            "/usr/local/lib/python3.7/dist-packages/seaborn/distributions.py:2619: FutureWarning: `distplot` is a deprecated function and will be removed in a future version. Please adapt your code to use either `displot` (a figure-level function with similar flexibility) or `histplot` (an axes-level function for histograms).\n",
            "  warnings.warn(msg, FutureWarning)\n"
          ]
        },
        {
          "output_type": "execute_result",
          "data": {
            "text/plain": [
              "<matplotlib.axes._subplots.AxesSubplot at 0x7f73cab9b950>"
            ]
          },
          "metadata": {},
          "execution_count": 24
        },
        {
          "output_type": "display_data",
          "data": {
            "text/plain": [
              "<Figure size 432x288 with 1 Axes>"
            ],
            "image/png": "[encoded data removed]"
          },
          "metadata": {
            "needs_background": "light"
          }
        }
      ]
    },
    {
      "cell_type": "code",
      "source": [
        "# - scipy 이용\n",
        "stats.probplot(arr, dist=stats.norm, plot=plt)\n",
        "plt.show()"
      ],
      "metadata": {
        "colab": {
          "base_uri": "https://localhost:8080/",
          "height": 294
        },
        "id": "BGeXN_GGSf-W",
        "outputId": "21f6cee0-4ad9-4dc4-a47b-369209339145"
      },
      "execution_count": null,
      "outputs": [
        {
          "output_type": "display_data",
          "data": {
            "text/plain": [
              "<Figure size 432x288 with 1 Axes>"
            ],
            "image/png": "[encoded data removed]"
          },
          "metadata": {
            "needs_background": "light"
          }
        }
      ]
    },
    {
      "cell_type": "code",
      "source": [
        "# - statsmodels 이용 >>> y=x 일치하지 않아서 정규분포라고 할 수 없음\n",
        "sm.qqplot(arr, line='q', dist=stats.norm)\n",
        "plt.show()"
      ],
      "metadata": {
        "colab": {
          "base_uri": "https://localhost:8080/",
          "height": 278
        },
        "id": "SKt6DlDKSh1f",
        "outputId": "f0b42625-6912-4389-de9c-066f79654332"
      },
      "execution_count": null,
      "outputs": [
        {
          "output_type": "display_data",
          "data": {
            "text/plain": [
              "<Figure size 432x288 with 1 Axes>"
            ],
            "image/png": "[encoded data removed]"
          },
          "metadata": {
            "needs_background": "light"
          }
        }
      ]
    },
    {
      "cell_type": "code",
      "source": [
        "# - shapiro 이용 >>> W가 0.9643이고 pvalue가 0.8336임으로 유의수준 5%에서 H0기각할 수 없음 >> 정규성 갖는다\n",
        "stats.shapiro(arr)"
      ],
      "metadata": {
        "colab": {
          "base_uri": "https://localhost:8080/"
        },
        "id": "Shx3c2DSSlmf",
        "outputId": "6937a259-b968-4f40-94ba-b86e4cd15609"
      },
      "execution_count": null,
      "outputs": [
        {
          "output_type": "execute_result",
          "data": {
            "text/plain": [
              "(0.9642988443374634, 0.8335505723953247)"
            ]
          },
          "metadata": {},
          "execution_count": 27
        }
      ]
    },
    {
      "cell_type": "code",
      "source": [
        "print(\"평균: \", arr.mean(), \"//분산: \", arr.var(), \"//표준편차: \", arr.std())"
      ],
      "metadata": {
        "colab": {
          "base_uri": "https://localhost:8080/"
        },
        "id": "y1W7PlC1Ss0-",
        "outputId": "333d4e65-73ff-4dfd-827c-f9f141f6927b"
      },
      "execution_count": null,
      "outputs": [
        {
          "output_type": "stream",
          "name": "stdout",
          "text": [
            "평균:  1.8400000000000003 //분산:  0.32439999999999997 //표준편차:  0.5695612346359257\n"
          ]
        }
      ]
    },
    {
      "cell_type": "markdown",
      "source": [
        "#10번\n"
      ],
      "metadata": {
        "id": "hEdx6Xi2S8Ag"
      }
    },
    {
      "cell_type": "code",
      "source": [
        "arr2 = np.array([182, 167, 166, 159, 178, 176, 169, 163, 166, 181, 171, 182, 172, 186, 171, 166, 170, 168,\n",
        "                 154, 173, 174, 166, 160, 162, 161, 179, 147, 162, 170, 166, 165, 178, 171, 169, 149, 168, 177, 170, 163])\n",
        "pd.DataFrame(arr2).describe()\n",
        "sns.distplot(arr2)\n",
        "sm.qqplot(arr2, line='q', dist=stats.norm)\n",
        "plt.show()"
      ],
      "metadata": {
        "colab": {
          "base_uri": "https://localhost:8080/",
          "height": 581
        },
        "id": "Z4PsMmCQS9t2",
        "outputId": "f81bcf87-5de1-444a-cd59-f16a8956ace4"
      },
      "execution_count": null,
      "outputs": [
        {
          "output_type": "stream",
          "name": "stderr",
          "text": [
            "/usr/local/lib/python3.7/dist-packages/seaborn/distributions.py:2619: FutureWarning: `distplot` is a deprecated function and will be removed in a future version. Please adapt your code to use either `displot` (a figure-level function with similar flexibility) or `histplot` (an axes-level function for histograms).\n",
            "  warnings.warn(msg, FutureWarning)\n"
          ]
        },
        {
          "output_type": "display_data",
          "data": {
            "text/plain": [
              "<Figure size 432x288 with 1 Axes>"
            ],
            "image/png": "[encoded data removed]"
          },
          "metadata": {
            "needs_background": "light"
          }
        },
        {
          "output_type": "display_data",
          "data": {
            "text/plain": [
              "<Figure size 432x288 with 1 Axes>"
            ],
            "image/png": "[encoded data removed]"
          },
          "metadata": {
            "needs_background": "light"
          }
        }
      ]
    },
    {
      "cell_type": "code",
      "source": [
        "# - shapiro >>>  유의수준 5%에서 정규분포 따른다고 할 수 있음\n",
        "stats.shapiro(arr2)"
      ],
      "metadata": {
        "colab": {
          "base_uri": "https://localhost:8080/"
        },
        "id": "sjPw1HVoTF5Z",
        "outputId": "3a3a6036-e138-4588-ab56-73fe71e4eb3f"
      },
      "execution_count": null,
      "outputs": [
        {
          "output_type": "execute_result",
          "data": {
            "text/plain": [
              "(0.9753990769386292, 0.5396954417228699)"
            ]
          },
          "metadata": {},
          "execution_count": 30
        }
      ]
    },
    {
      "cell_type": "markdown",
      "source": [
        "#12번"
      ],
      "metadata": {
        "id": "sZdf0PvYTB9v"
      }
    },
    {
      "cell_type": "code",
      "source": [
        "np.random.seed(0)\n",
        "x1 = np.random.normal(0, 1, 100)\n",
        "x2 = np.random.exponential(2, 100)\n",
        "x3 = np.log1p(x2)\n",
        "f, axes = plt.subplots(2, 3, figsize=(12, 6))\n",
        "# - 상자그림\n",
        "axes[0][0].boxplot(x1)\n",
        "axes[0][1].boxplot(x2)\n",
        "axes[0][2].boxplot(x3)\n",
        "# - qqplot\n",
        "stats.probplot(x1, plot=axes[1][0])\n",
        "stats.probplot(x2, plot=axes[1][1])\n",
        "stats.probplot(x3, plot=axes[1][2])\n",
        "plt.show()"
      ],
      "metadata": {
        "colab": {
          "base_uri": "https://localhost:8080/",
          "height": 388
        },
        "id": "f4PsTuiETReo",
        "outputId": "0e800437-fdef-4f91-98d2-74df2b261cfa"
      },
      "execution_count": null,
      "outputs": [
        {
          "output_type": "display_data",
          "data": {
            "text/plain": [
              "<Figure size 864x432 with 6 Axes>"
            ],
            "image/png": "[encoded data removed]"
          },
          "metadata": {
            "needs_background": "light"
          }
        }
      ]
    }
  ]
}
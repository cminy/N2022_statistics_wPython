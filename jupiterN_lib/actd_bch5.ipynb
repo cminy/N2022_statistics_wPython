{
  "nbformat": 4,
  "nbformat_minor": 0,
  "metadata": {
    "colab": {
      "name": "actd_bch5.ipynb",
      "provenance": [],
      "collapsed_sections": [],
      "authorship_tag": "ABX9TyOF0UlU6HrvURW5Vy15BL1V",
      "include_colab_link": true
    },
    "kernelspec": {
      "name": "python3",
      "display_name": "Python 3"
    },
    "language_info": {
      "name": "python"
    }
  },
  "cells": [
    {
      "cell_type": "markdown",
      "metadata": {
        "id": "view-in-github",
        "colab_type": "text"
      },
      "source": [
        "<a href=\"https://colab.research.google.com/github/cminy/cminydev22/blob/main/actd_bch5.ipynb\" target=\"_parent\"><img src=\"https://colab.research.google.com/assets/colab-badge.svg\" alt=\"Open In Colab\"/></a>"
      ]
    },
    {
      "cell_type": "code",
      "execution_count": null,
      "metadata": {
        "colab": {
          "base_uri": "https://localhost:8080/"
        },
        "id": "pNmRHU0gWHfV",
        "outputId": "eb0034e4-6a22-432d-b546-43615e9b1c75"
      },
      "outputs": [
        {
          "output_type": "stream",
          "name": "stdout",
          "text": [
            "Requirement already satisfied: stemgraphic in /usr/local/lib/python3.7/dist-packages (0.9.1)\n",
            "Requirement already satisfied: matplotlib in /usr/local/lib/python3.7/dist-packages (from stemgraphic) (3.2.2)\n",
            "Requirement already satisfied: docopt in /usr/local/lib/python3.7/dist-packages (from stemgraphic) (0.6.2)\n",
            "Requirement already satisfied: pandas in /usr/local/lib/python3.7/dist-packages (from stemgraphic) (1.3.5)\n",
            "Requirement already satisfied: seaborn in /usr/local/lib/python3.7/dist-packages (from stemgraphic) (0.11.2)\n",
            "Requirement already satisfied: numpy>=1.11 in /usr/local/lib/python3.7/dist-packages (from matplotlib->stemgraphic) (1.21.5)\n",
            "Requirement already satisfied: pyparsing!=2.0.4,!=2.1.2,!=2.1.6,>=2.0.1 in /usr/local/lib/python3.7/dist-packages (from matplotlib->stemgraphic) (3.0.7)\n",
            "Requirement already satisfied: python-dateutil>=2.1 in /usr/local/lib/python3.7/dist-packages (from matplotlib->stemgraphic) (2.8.2)\n",
            "Requirement already satisfied: cycler>=0.10 in /usr/local/lib/python3.7/dist-packages (from matplotlib->stemgraphic) (0.11.0)\n",
            "Requirement already satisfied: kiwisolver>=1.0.1 in /usr/local/lib/python3.7/dist-packages (from matplotlib->stemgraphic) (1.3.2)\n",
            "Requirement already satisfied: six>=1.5 in /usr/local/lib/python3.7/dist-packages (from python-dateutil>=2.1->matplotlib->stemgraphic) (1.15.0)\n",
            "Requirement already satisfied: pytz>=2017.3 in /usr/local/lib/python3.7/dist-packages (from pandas->stemgraphic) (2018.9)\n",
            "Requirement already satisfied: scipy>=1.0 in /usr/local/lib/python3.7/dist-packages (from seaborn->stemgraphic) (1.4.1)\n",
            "Requirement already satisfied: import_ipynb in /usr/local/lib/python3.7/dist-packages (0.1.3)\n",
            "Drive already mounted at /content/drive; to attempt to forcibly remount, call drive.mount(\"/content/drive\", force_remount=True).\n"
          ]
        }
      ],
      "source": [
        "# DESCRIPTION : Wine Quality Data Set으로 5장 예제풀기\n",
        "# -*- coding: utf-8 -*-\n",
        "!pip install stemgraphic\n",
        "\n",
        "import os\n",
        "import glob\n",
        "import pandas as pd\n",
        "import numpy as np\n",
        "from matplotlib import pyplot as plt\n",
        "import seaborn as sns\n",
        "import stemgraphic\n",
        "import scipy\n",
        "\n",
        "# 구글드라이브 접근 설정\n",
        "from google.colab import drive\n",
        "drive.mount('/content/drive')"
      ]
    },
    {
      "cell_type": "code",
      "source": [
        "# 내 모듈 불러오기\n",
        "!pip install import_ipynb \n",
        "import import_ipynb\n",
        "\n",
        "# Authenticate Google Drive Access\n",
        "!pip install -U -q PyDrive\n",
        "from pydrive.auth import GoogleAuth\n",
        "from pydrive.drive import GoogleDrive\n",
        "from google.colab import auth\n",
        "from oauth2client.client import GoogleCredentials\n",
        "\n",
        "auth.authenticate_user()\n",
        "gauth = GoogleAuth()\n",
        "gauth.credentials = GoogleCredentials.get_application_default()\n",
        "drive = GoogleDrive(gauth)\n",
        "\n",
        "#Linking Colab Notebook to the Module\n",
        "module = drive.CreateFile({'id':'1BTjAAGl6LSGXUjJJNQDCNGKvj57jX5gk'})\n",
        "module.GetContentFile('actd_mergeadd.ipynb')\n",
        "from actd_mergeadd import MergeManager\n",
        "\n",
        "\n",
        "# csv파일로 저장된 data set 불러오기\n",
        "winedf = MergeManager().findmerged('wineAll.csv')"
      ],
      "metadata": {
        "colab": {
          "base_uri": "https://localhost:8080/"
        },
        "id": "WaTH7nsPetT3",
        "outputId": "ac5f38d6-f819-47f9-8ef6-3b876f54b4e0"
      },
      "execution_count": null,
      "outputs": [
        {
          "output_type": "stream",
          "name": "stdout",
          "text": [
            "Requirement already satisfied: import_ipynb in /usr/local/lib/python3.7/dist-packages (0.1.3)\n"
          ]
        }
      ]
    },
    {
      "cell_type": "code",
      "source": [
        "# 와인데이터에서 랜덤으로 30개 뽑아오기\n",
        "df = winedf.sample(n=30, random_state=20).reset_index(drop=True)\n",
        "# df_col = sorted(list(df.columns))\n",
        "# df_col\n",
        "df.rename(columns={\"Unnamed: 0\": \"_idx\"}, inplace=True)\n",
        "df.head(5)"
      ],
      "metadata": {
        "colab": {
          "base_uri": "https://localhost:8080/",
          "height": 305
        },
        "id": "vXB0ebFQWZoy",
        "outputId": "a3f7b565-322e-41bb-fd9a-cf2c8d2fd88f"
      },
      "execution_count": null,
      "outputs": [
        {
          "output_type": "execute_result",
          "data": {
            "text/plain": [
              "   _idx  fixed acidity  volatile acidity  citric acid  residual sugar  \\\n",
              "0   253            5.8              0.24         0.44             3.5   \n",
              "1  1188            7.1              0.21         0.30             1.4   \n",
              "2   379            8.3              0.42         0.38             2.5   \n",
              "3  1063            6.7              0.26         0.26             4.1   \n",
              "4  1242            9.0              0.40         0.41             2.0   \n",
              "\n",
              "   chlorides  free sulfur dioxide  total sulfur dioxide  density    pH  \\\n",
              "0      0.029                  5.0                 109.0  0.99130  3.53   \n",
              "1      0.037                 45.0                 143.0  0.99320  3.13   \n",
              "2      0.094                 24.0                  60.0  0.99790  3.31   \n",
              "3      0.073                 36.0                 202.0  0.99560  3.30   \n",
              "4      0.058                 15.0                  40.0  0.99414  3.22   \n",
              "\n",
              "   sulphates  alcohol  quality vinoCate  \n",
              "0       0.43     11.7        3    white  \n",
              "1       0.33      9.9        6    white  \n",
              "2       0.70     10.8        6      red  \n",
              "3       0.67      9.5        5    white  \n",
              "4       0.60     12.2        6      red  "
            ],
            "text/html": [
              "\n",
              "  <div id=\"df-fb29b170-4372-4543-bcbf-cdb15cbab077\">\n",
              "    <div class=\"colab-df-container\">\n",
              "      <div>\n",
              "<style scoped>\n",
              "    .dataframe tbody tr th:only-of-type {\n",
              "        vertical-align: middle;\n",
              "    }\n",
              "\n",
              "    .dataframe tbody tr th {\n",
              "        vertical-align: top;\n",
              "    }\n",
              "\n",
              "    .dataframe thead th {\n",
              "        text-align: right;\n",
              "    }\n",
              "</style>\n",
              "<table border=\"1\" class=\"dataframe\">\n",
              "  <thead>\n",
              "    <tr style=\"text-align: right;\">\n",
              "      <th></th>\n",
              "      <th>_idx</th>\n",
              "      <th>fixed acidity</th>\n",
              "      <th>volatile acidity</th>\n",
              "      <th>citric acid</th>\n",
              "      <th>residual sugar</th>\n",
              "      <th>chlorides</th>\n",
              "      <th>free sulfur dioxide</th>\n",
              "      <th>total sulfur dioxide</th>\n",
              "      <th>density</th>\n",
              "      <th>pH</th>\n",
              "      <th>sulphates</th>\n",
              "      <th>alcohol</th>\n",
              "      <th>quality</th>\n",
              "      <th>vinoCate</th>\n",
              "    </tr>\n",
              "  </thead>\n",
              "  <tbody>\n",
              "    <tr>\n",
              "      <th>0</th>\n",
              "      <td>253</td>\n",
              "      <td>5.8</td>\n",
              "      <td>0.24</td>\n",
              "      <td>0.44</td>\n",
              "      <td>3.5</td>\n",
              "      <td>0.029</td>\n",
              "      <td>5.0</td>\n",
              "      <td>109.0</td>\n",
              "      <td>0.99130</td>\n",
              "      <td>3.53</td>\n",
              "      <td>0.43</td>\n",
              "      <td>11.7</td>\n",
              "      <td>3</td>\n",
              "      <td>white</td>\n",
              "    </tr>\n",
              "    <tr>\n",
              "      <th>1</th>\n",
              "      <td>1188</td>\n",
              "      <td>7.1</td>\n",
              "      <td>0.21</td>\n",
              "      <td>0.30</td>\n",
              "      <td>1.4</td>\n",
              "      <td>0.037</td>\n",
              "      <td>45.0</td>\n",
              "      <td>143.0</td>\n",
              "      <td>0.99320</td>\n",
              "      <td>3.13</td>\n",
              "      <td>0.33</td>\n",
              "      <td>9.9</td>\n",
              "      <td>6</td>\n",
              "      <td>white</td>\n",
              "    </tr>\n",
              "    <tr>\n",
              "      <th>2</th>\n",
              "      <td>379</td>\n",
              "      <td>8.3</td>\n",
              "      <td>0.42</td>\n",
              "      <td>0.38</td>\n",
              "      <td>2.5</td>\n",
              "      <td>0.094</td>\n",
              "      <td>24.0</td>\n",
              "      <td>60.0</td>\n",
              "      <td>0.99790</td>\n",
              "      <td>3.31</td>\n",
              "      <td>0.70</td>\n",
              "      <td>10.8</td>\n",
              "      <td>6</td>\n",
              "      <td>red</td>\n",
              "    </tr>\n",
              "    <tr>\n",
              "      <th>3</th>\n",
              "      <td>1063</td>\n",
              "      <td>6.7</td>\n",
              "      <td>0.26</td>\n",
              "      <td>0.26</td>\n",
              "      <td>4.1</td>\n",
              "      <td>0.073</td>\n",
              "      <td>36.0</td>\n",
              "      <td>202.0</td>\n",
              "      <td>0.99560</td>\n",
              "      <td>3.30</td>\n",
              "      <td>0.67</td>\n",
              "      <td>9.5</td>\n",
              "      <td>5</td>\n",
              "      <td>white</td>\n",
              "    </tr>\n",
              "    <tr>\n",
              "      <th>4</th>\n",
              "      <td>1242</td>\n",
              "      <td>9.0</td>\n",
              "      <td>0.40</td>\n",
              "      <td>0.41</td>\n",
              "      <td>2.0</td>\n",
              "      <td>0.058</td>\n",
              "      <td>15.0</td>\n",
              "      <td>40.0</td>\n",
              "      <td>0.99414</td>\n",
              "      <td>3.22</td>\n",
              "      <td>0.60</td>\n",
              "      <td>12.2</td>\n",
              "      <td>6</td>\n",
              "      <td>red</td>\n",
              "    </tr>\n",
              "  </tbody>\n",
              "</table>\n",
              "</div>\n",
              "      <button class=\"colab-df-convert\" onclick=\"convertToInteractive('df-fb29b170-4372-4543-bcbf-cdb15cbab077')\"\n",
              "              title=\"Convert this dataframe to an interactive table.\"\n",
              "              style=\"display:none;\">\n",
              "        \n",
              "  <svg xmlns=\"http://www.w3.org/2000/svg\" height=\"24px\"viewBox=\"0 0 24 24\"\n",
              "       width=\"24px\">\n",
              "    <path d=\"M0 0h24v24H0V0z\" fill=\"none\"/>\n",
              "    <path d=\"M18.56 5.44l.94 2.06.94-2.06 2.06-.94-2.06-.94-.94-2.06-.94 2.06-2.06.94zm-11 1L8.5 8.5l.94-2.06 2.06-.94-2.06-.94L8.5 2.5l-.94 2.06-2.06.94zm10 10l.94 2.06.94-2.06 2.06-.94-2.06-.94-.94-2.06-.94 2.06-2.06.94z\"/><path d=\"M17.41 7.96l-1.37-1.37c-.4-.4-.92-.59-1.43-.59-.52 0-1.04.2-1.43.59L10.3 9.45l-7.72 7.72c-.78.78-.78 2.05 0 2.83L4 21.41c.39.39.9.59 1.41.59.51 0 1.02-.2 1.41-.59l7.78-7.78 2.81-2.81c.8-.78.8-2.07 0-2.86zM5.41 20L4 18.59l7.72-7.72 1.47 1.35L5.41 20z\"/>\n",
              "  </svg>\n",
              "      </button>\n",
              "      \n",
              "  <style>\n",
              "    .colab-df-container {\n",
              "      display:flex;\n",
              "      flex-wrap:wrap;\n",
              "      gap: 12px;\n",
              "    }\n",
              "\n",
              "    .colab-df-convert {\n",
              "      background-color: #E8F0FE;\n",
              "      border: none;\n",
              "      border-radius: 50%;\n",
              "      cursor: pointer;\n",
              "      display: none;\n",
              "      fill: #1967D2;\n",
              "      height: 32px;\n",
              "      padding: 0 0 0 0;\n",
              "      width: 32px;\n",
              "    }\n",
              "\n",
              "    .colab-df-convert:hover {\n",
              "      background-color: #E2EBFA;\n",
              "      box-shadow: 0px 1px 2px rgba(60, 64, 67, 0.3), 0px 1px 3px 1px rgba(60, 64, 67, 0.15);\n",
              "      fill: #174EA6;\n",
              "    }\n",
              "\n",
              "    [theme=dark] .colab-df-convert {\n",
              "      background-color: #3B4455;\n",
              "      fill: #D2E3FC;\n",
              "    }\n",
              "\n",
              "    [theme=dark] .colab-df-convert:hover {\n",
              "      background-color: #434B5C;\n",
              "      box-shadow: 0px 1px 3px 1px rgba(0, 0, 0, 0.15);\n",
              "      filter: drop-shadow(0px 1px 2px rgba(0, 0, 0, 0.3));\n",
              "      fill: #FFFFFF;\n",
              "    }\n",
              "  </style>\n",
              "\n",
              "      <script>\n",
              "        const buttonEl =\n",
              "          document.querySelector('#df-fb29b170-4372-4543-bcbf-cdb15cbab077 button.colab-df-convert');\n",
              "        buttonEl.style.display =\n",
              "          google.colab.kernel.accessAllowed ? 'block' : 'none';\n",
              "\n",
              "        async function convertToInteractive(key) {\n",
              "          const element = document.querySelector('#df-fb29b170-4372-4543-bcbf-cdb15cbab077');\n",
              "          const dataTable =\n",
              "            await google.colab.kernel.invokeFunction('convertToInteractive',\n",
              "                                                     [key], {});\n",
              "          if (!dataTable) return;\n",
              "\n",
              "          const docLinkHtml = 'Like what you see? Visit the ' +\n",
              "            '<a target=\"_blank\" href=https://colab.research.google.com/notebooks/data_table.ipynb>data table notebook</a>'\n",
              "            + ' to learn more about interactive tables.';\n",
              "          element.innerHTML = '';\n",
              "          dataTable['output_type'] = 'display_data';\n",
              "          await google.colab.output.renderOutput(dataTable, element);\n",
              "          const docLink = document.createElement('div');\n",
              "          docLink.innerHTML = docLinkHtml;\n",
              "          element.appendChild(docLink);\n",
              "        }\n",
              "      </script>\n",
              "    </div>\n",
              "  </div>\n",
              "  "
            ]
          },
          "metadata": {},
          "execution_count": 18
        }
      ]
    },
    {
      "cell_type": "markdown",
      "source": [
        "# 예제 5.1.1\n",
        "랜덤으로 뽑은 와인데이터에서 와인 종류(레드/화이트)별 카운트하고 막대그래프 그리기\n"
      ],
      "metadata": {
        "id": "sQA4LtuYkW02"
      }
    },
    {
      "cell_type": "code",
      "source": [
        "cr = pd.crosstab(index=df['vinoCate'], columns=\"count\")\n",
        "cr"
      ],
      "metadata": {
        "colab": {
          "base_uri": "https://localhost:8080/",
          "height": 144
        },
        "id": "JXaVVNDjkci6",
        "outputId": "53de1f2e-284f-43c0-9d0e-6f6646eb2d5c"
      },
      "execution_count": null,
      "outputs": [
        {
          "output_type": "execute_result",
          "data": {
            "text/plain": [
              "col_0     count\n",
              "vinoCate       \n",
              "red           4\n",
              "white        26"
            ],
            "text/html": [
              "\n",
              "  <div id=\"df-f08edfb8-3802-4fbe-9b48-65c1584a61ba\">\n",
              "    <div class=\"colab-df-container\">\n",
              "      <div>\n",
              "<style scoped>\n",
              "    .dataframe tbody tr th:only-of-type {\n",
              "        vertical-align: middle;\n",
              "    }\n",
              "\n",
              "    .dataframe tbody tr th {\n",
              "        vertical-align: top;\n",
              "    }\n",
              "\n",
              "    .dataframe thead th {\n",
              "        text-align: right;\n",
              "    }\n",
              "</style>\n",
              "<table border=\"1\" class=\"dataframe\">\n",
              "  <thead>\n",
              "    <tr style=\"text-align: right;\">\n",
              "      <th>col_0</th>\n",
              "      <th>count</th>\n",
              "    </tr>\n",
              "    <tr>\n",
              "      <th>vinoCate</th>\n",
              "      <th></th>\n",
              "    </tr>\n",
              "  </thead>\n",
              "  <tbody>\n",
              "    <tr>\n",
              "      <th>red</th>\n",
              "      <td>4</td>\n",
              "    </tr>\n",
              "    <tr>\n",
              "      <th>white</th>\n",
              "      <td>26</td>\n",
              "    </tr>\n",
              "  </tbody>\n",
              "</table>\n",
              "</div>\n",
              "      <button class=\"colab-df-convert\" onclick=\"convertToInteractive('df-f08edfb8-3802-4fbe-9b48-65c1584a61ba')\"\n",
              "              title=\"Convert this dataframe to an interactive table.\"\n",
              "              style=\"display:none;\">\n",
              "        \n",
              "  <svg xmlns=\"http://www.w3.org/2000/svg\" height=\"24px\"viewBox=\"0 0 24 24\"\n",
              "       width=\"24px\">\n",
              "    <path d=\"M0 0h24v24H0V0z\" fill=\"none\"/>\n",
              "    <path d=\"M18.56 5.44l.94 2.06.94-2.06 2.06-.94-2.06-.94-.94-2.06-.94 2.06-2.06.94zm-11 1L8.5 8.5l.94-2.06 2.06-.94-2.06-.94L8.5 2.5l-.94 2.06-2.06.94zm10 10l.94 2.06.94-2.06 2.06-.94-2.06-.94-.94-2.06-.94 2.06-2.06.94z\"/><path d=\"M17.41 7.96l-1.37-1.37c-.4-.4-.92-.59-1.43-.59-.52 0-1.04.2-1.43.59L10.3 9.45l-7.72 7.72c-.78.78-.78 2.05 0 2.83L4 21.41c.39.39.9.59 1.41.59.51 0 1.02-.2 1.41-.59l7.78-7.78 2.81-2.81c.8-.78.8-2.07 0-2.86zM5.41 20L4 18.59l7.72-7.72 1.47 1.35L5.41 20z\"/>\n",
              "  </svg>\n",
              "      </button>\n",
              "      \n",
              "  <style>\n",
              "    .colab-df-container {\n",
              "      display:flex;\n",
              "      flex-wrap:wrap;\n",
              "      gap: 12px;\n",
              "    }\n",
              "\n",
              "    .colab-df-convert {\n",
              "      background-color: #E8F0FE;\n",
              "      border: none;\n",
              "      border-radius: 50%;\n",
              "      cursor: pointer;\n",
              "      display: none;\n",
              "      fill: #1967D2;\n",
              "      height: 32px;\n",
              "      padding: 0 0 0 0;\n",
              "      width: 32px;\n",
              "    }\n",
              "\n",
              "    .colab-df-convert:hover {\n",
              "      background-color: #E2EBFA;\n",
              "      box-shadow: 0px 1px 2px rgba(60, 64, 67, 0.3), 0px 1px 3px 1px rgba(60, 64, 67, 0.15);\n",
              "      fill: #174EA6;\n",
              "    }\n",
              "\n",
              "    [theme=dark] .colab-df-convert {\n",
              "      background-color: #3B4455;\n",
              "      fill: #D2E3FC;\n",
              "    }\n",
              "\n",
              "    [theme=dark] .colab-df-convert:hover {\n",
              "      background-color: #434B5C;\n",
              "      box-shadow: 0px 1px 3px 1px rgba(0, 0, 0, 0.15);\n",
              "      filter: drop-shadow(0px 1px 2px rgba(0, 0, 0, 0.3));\n",
              "      fill: #FFFFFF;\n",
              "    }\n",
              "  </style>\n",
              "\n",
              "      <script>\n",
              "        const buttonEl =\n",
              "          document.querySelector('#df-f08edfb8-3802-4fbe-9b48-65c1584a61ba button.colab-df-convert');\n",
              "        buttonEl.style.display =\n",
              "          google.colab.kernel.accessAllowed ? 'block' : 'none';\n",
              "\n",
              "        async function convertToInteractive(key) {\n",
              "          const element = document.querySelector('#df-f08edfb8-3802-4fbe-9b48-65c1584a61ba');\n",
              "          const dataTable =\n",
              "            await google.colab.kernel.invokeFunction('convertToInteractive',\n",
              "                                                     [key], {});\n",
              "          if (!dataTable) return;\n",
              "\n",
              "          const docLinkHtml = 'Like what you see? Visit the ' +\n",
              "            '<a target=\"_blank\" href=https://colab.research.google.com/notebooks/data_table.ipynb>data table notebook</a>'\n",
              "            + ' to learn more about interactive tables.';\n",
              "          element.innerHTML = '';\n",
              "          dataTable['output_type'] = 'display_data';\n",
              "          await google.colab.output.renderOutput(dataTable, element);\n",
              "          const docLink = document.createElement('div');\n",
              "          docLink.innerHTML = docLinkHtml;\n",
              "          element.appendChild(docLink);\n",
              "        }\n",
              "      </script>\n",
              "    </div>\n",
              "  </div>\n",
              "  "
            ]
          },
          "metadata": {},
          "execution_count": 19
        }
      ]
    },
    {
      "cell_type": "markdown",
      "source": [
        "# 예제 5.1.2 (a)"
      ],
      "metadata": {
        "id": "Ki80XlnLke3n"
      }
    },
    {
      "cell_type": "code",
      "source": [
        "y_pos = np.arange(len(cr))\n",
        "x_pos = ['red', 'white']\n",
        "\n",
        "plt.figure(figsize=(12, 8))\n",
        "plt.subplot(1, 2, 1)\n",
        "plt.bar(y_pos, cr['count'], color=['r', 'yellow'], width=0.7, edgecolor='grey')\n",
        "plt.xticks(y_pos, x_pos, fontsize=12, rotation=45)\n",
        "plt.gca().spines['right'].set_visible(False)\n",
        "plt.gca().spines['top'].set_visible(False)\n",
        "for i in range(0, len(x_pos)):\n",
        "    plt.text(i, cr['count'][i], '{}'.format(\n",
        "        cr['count'][i]), fontsize=10, horizontalalignment='center', verticalalignment='bottom')\n",
        "\n",
        "plt.subplot(1, 2, 2)\n",
        "#plt.barh(y_pos, cr['count'], color=['red', 'yellow'])\n",
        "sns.barplot(x=cr['count'], y=x_pos, palette='husl')\n",
        "plt.yticks(y_pos, x_pos, fontsize=12)\n",
        "plt.gca().spines['right'].set_visible(False)\n",
        "plt.gca().spines['top'].set_visible(False)\n",
        "for i in range(0, len(x_pos)):\n",
        "    plt.text(cr['count'][i], i, '{}'.format(\n",
        "        cr['count'][i]), fontsize=10, horizontalalignment='center', verticalalignment='bottom')"
      ],
      "metadata": {
        "colab": {
          "base_uri": "https://localhost:8080/",
          "height": 505
        },
        "id": "_gopx8ajkjqC",
        "outputId": "82255fdc-68cb-4edb-da3d-6f870e232a26"
      },
      "execution_count": null,
      "outputs": [
        {
          "output_type": "display_data",
          "data": {
            "text/plain": [
              "<Figure size 864x576 with 2 Axes>"
            ],
            "image/png": "[encoded data removed]"
          },
          "metadata": {
            "needs_background": "light"
          }
        }
      ]
    },
    {
      "cell_type": "markdown",
      "source": [
        "# 예제 5.1.3 (a)"
      ],
      "metadata": {
        "id": "PcMueULwkst7"
      }
    },
    {
      "cell_type": "code",
      "source": [
        "plt.style.use('fivethirtyeight')\n",
        "colors = plt.get_cmap('Greys')(np.linspace(0.2, 0.7, len(cr)))\n",
        "fig, ax = plt.subplots()\n",
        "ax.pie(cr['count'], labels=x_pos, colors=colors, radius=3, center=(\n",
        "    4, 4), wedgeprops={\"linewidth\": 1, \"edgecolor\": \"white\"}, frame=False)\n",
        "ax.set(xlim=(0, 8), ylim=(0, 8))\n",
        "plt.show()"
      ],
      "metadata": {
        "colab": {
          "base_uri": "https://localhost:8080/",
          "height": 614
        },
        "id": "RS2LW40ukvY-",
        "outputId": "08b951cc-31ff-4767-9c3b-2449feb40da8"
      },
      "execution_count": null,
      "outputs": [
        {
          "output_type": "display_data",
          "data": {
            "text/plain": [
              "<Figure size 864x720 with 1 Axes>"
            ],
            "image/png": "[encoded data removed]"
          },
          "metadata": {}
        }
      ]
    },
    {
      "cell_type": "code",
      "source": [
        "# - 다른 방법으로 그리기\n",
        "plt.pie(cr['count'], labels=x_pos)\n",
        "plt.show()"
      ],
      "metadata": {
        "colab": {
          "base_uri": "https://localhost:8080/",
          "height": 248
        },
        "id": "uqkjoexpk0dK",
        "outputId": "07d5c443-9bd3-4454-f9b0-04a0c6ccb63e"
      },
      "execution_count": null,
      "outputs": [
        {
          "output_type": "display_data",
          "data": {
            "text/plain": [
              "<Figure size 432x288 with 1 Axes>"
            ],
            "image/png": "[encoded data removed]"
          },
          "metadata": {}
        }
      ]
    },
    {
      "cell_type": "markdown",
      "source": [
        "# 예제 5.1.3(b)\n",
        "레드와인 평점 비교\n"
      ],
      "metadata": {
        "id": "kOQoPeXnk4mg"
      }
    },
    {
      "cell_type": "code",
      "source": [
        "tempdf = winedf.loc[winedf['vinoCate'] == 'red']\n",
        "df2 = pd.crosstab(index=tempdf['quality'], columns=\"count\")\n",
        "df2"
      ],
      "metadata": {
        "colab": {
          "base_uri": "https://localhost:8080/",
          "height": 269
        },
        "id": "Lozm7Vr9k8SA",
        "outputId": "3640769c-2f20-4d80-bc0d-a29b5358a5f3"
      },
      "execution_count": null,
      "outputs": [
        {
          "output_type": "execute_result",
          "data": {
            "text/plain": [
              "col_0    count\n",
              "quality       \n",
              "3           10\n",
              "4           53\n",
              "5          681\n",
              "6          638\n",
              "7          199\n",
              "8           18"
            ],
            "text/html": [
              "\n",
              "  <div id=\"df-769b6b25-dceb-415d-80fc-354df20f4f55\">\n",
              "    <div class=\"colab-df-container\">\n",
              "      <div>\n",
              "<style scoped>\n",
              "    .dataframe tbody tr th:only-of-type {\n",
              "        vertical-align: middle;\n",
              "    }\n",
              "\n",
              "    .dataframe tbody tr th {\n",
              "        vertical-align: top;\n",
              "    }\n",
              "\n",
              "    .dataframe thead th {\n",
              "        text-align: right;\n",
              "    }\n",
              "</style>\n",
              "<table border=\"1\" class=\"dataframe\">\n",
              "  <thead>\n",
              "    <tr style=\"text-align: right;\">\n",
              "      <th>col_0</th>\n",
              "      <th>count</th>\n",
              "    </tr>\n",
              "    <tr>\n",
              "      <th>quality</th>\n",
              "      <th></th>\n",
              "    </tr>\n",
              "  </thead>\n",
              "  <tbody>\n",
              "    <tr>\n",
              "      <th>3</th>\n",
              "      <td>10</td>\n",
              "    </tr>\n",
              "    <tr>\n",
              "      <th>4</th>\n",
              "      <td>53</td>\n",
              "    </tr>\n",
              "    <tr>\n",
              "      <th>5</th>\n",
              "      <td>681</td>\n",
              "    </tr>\n",
              "    <tr>\n",
              "      <th>6</th>\n",
              "      <td>638</td>\n",
              "    </tr>\n",
              "    <tr>\n",
              "      <th>7</th>\n",
              "      <td>199</td>\n",
              "    </tr>\n",
              "    <tr>\n",
              "      <th>8</th>\n",
              "      <td>18</td>\n",
              "    </tr>\n",
              "  </tbody>\n",
              "</table>\n",
              "</div>\n",
              "      <button class=\"colab-df-convert\" onclick=\"convertToInteractive('df-769b6b25-dceb-415d-80fc-354df20f4f55')\"\n",
              "              title=\"Convert this dataframe to an interactive table.\"\n",
              "              style=\"display:none;\">\n",
              "        \n",
              "  <svg xmlns=\"http://www.w3.org/2000/svg\" height=\"24px\"viewBox=\"0 0 24 24\"\n",
              "       width=\"24px\">\n",
              "    <path d=\"M0 0h24v24H0V0z\" fill=\"none\"/>\n",
              "    <path d=\"M18.56 5.44l.94 2.06.94-2.06 2.06-.94-2.06-.94-.94-2.06-.94 2.06-2.06.94zm-11 1L8.5 8.5l.94-2.06 2.06-.94-2.06-.94L8.5 2.5l-.94 2.06-2.06.94zm10 10l.94 2.06.94-2.06 2.06-.94-2.06-.94-.94-2.06-.94 2.06-2.06.94z\"/><path d=\"M17.41 7.96l-1.37-1.37c-.4-.4-.92-.59-1.43-.59-.52 0-1.04.2-1.43.59L10.3 9.45l-7.72 7.72c-.78.78-.78 2.05 0 2.83L4 21.41c.39.39.9.59 1.41.59.51 0 1.02-.2 1.41-.59l7.78-7.78 2.81-2.81c.8-.78.8-2.07 0-2.86zM5.41 20L4 18.59l7.72-7.72 1.47 1.35L5.41 20z\"/>\n",
              "  </svg>\n",
              "      </button>\n",
              "      \n",
              "  <style>\n",
              "    .colab-df-container {\n",
              "      display:flex;\n",
              "      flex-wrap:wrap;\n",
              "      gap: 12px;\n",
              "    }\n",
              "\n",
              "    .colab-df-convert {\n",
              "      background-color: #E8F0FE;\n",
              "      border: none;\n",
              "      border-radius: 50%;\n",
              "      cursor: pointer;\n",
              "      display: none;\n",
              "      fill: #1967D2;\n",
              "      height: 32px;\n",
              "      padding: 0 0 0 0;\n",
              "      width: 32px;\n",
              "    }\n",
              "\n",
              "    .colab-df-convert:hover {\n",
              "      background-color: #E2EBFA;\n",
              "      box-shadow: 0px 1px 2px rgba(60, 64, 67, 0.3), 0px 1px 3px 1px rgba(60, 64, 67, 0.15);\n",
              "      fill: #174EA6;\n",
              "    }\n",
              "\n",
              "    [theme=dark] .colab-df-convert {\n",
              "      background-color: #3B4455;\n",
              "      fill: #D2E3FC;\n",
              "    }\n",
              "\n",
              "    [theme=dark] .colab-df-convert:hover {\n",
              "      background-color: #434B5C;\n",
              "      box-shadow: 0px 1px 3px 1px rgba(0, 0, 0, 0.15);\n",
              "      filter: drop-shadow(0px 1px 2px rgba(0, 0, 0, 0.3));\n",
              "      fill: #FFFFFF;\n",
              "    }\n",
              "  </style>\n",
              "\n",
              "      <script>\n",
              "        const buttonEl =\n",
              "          document.querySelector('#df-769b6b25-dceb-415d-80fc-354df20f4f55 button.colab-df-convert');\n",
              "        buttonEl.style.display =\n",
              "          google.colab.kernel.accessAllowed ? 'block' : 'none';\n",
              "\n",
              "        async function convertToInteractive(key) {\n",
              "          const element = document.querySelector('#df-769b6b25-dceb-415d-80fc-354df20f4f55');\n",
              "          const dataTable =\n",
              "            await google.colab.kernel.invokeFunction('convertToInteractive',\n",
              "                                                     [key], {});\n",
              "          if (!dataTable) return;\n",
              "\n",
              "          const docLinkHtml = 'Like what you see? Visit the ' +\n",
              "            '<a target=\"_blank\" href=https://colab.research.google.com/notebooks/data_table.ipynb>data table notebook</a>'\n",
              "            + ' to learn more about interactive tables.';\n",
              "          element.innerHTML = '';\n",
              "          dataTable['output_type'] = 'display_data';\n",
              "          await google.colab.output.renderOutput(dataTable, element);\n",
              "          const docLink = document.createElement('div');\n",
              "          docLink.innerHTML = docLinkHtml;\n",
              "          element.appendChild(docLink);\n",
              "        }\n",
              "      </script>\n",
              "    </div>\n",
              "  </div>\n",
              "  "
            ]
          },
          "metadata": {},
          "execution_count": 24
        }
      ]
    },
    {
      "cell_type": "code",
      "source": [
        "plt.rcParams['figure.figsize'] = [12, 10]\n",
        "wine_Q = np.array(tempdf['quality'].unique())\n",
        "wine_Qcount = np.array(df2['count'])\n",
        "y_pos = np.arange(len(wine_Q))\n",
        "\n",
        "explode = (0.0, 0.4, 0.0, 0.0, 0.0, 0.0)\n",
        "plt.subplot(1, 3, 1)\n",
        "plt.pie(wine_Qcount, labels=wine_Q)\n",
        "plt.subplot(1, 3, 2)\n",
        "plt.pie(wine_Qcount, labels=wine_Q, explode=explode)\n",
        "plt.subplot(1, 3, 3)\n",
        "plt.pie(wine_Qcount, labels=wine_Q, explode=explode,\n",
        "        colors=colors, shadow=True, startangle=90, autopct='%1.1f%%')\n",
        "plt.show()"
      ],
      "metadata": {
        "colab": {
          "base_uri": "https://localhost:8080/",
          "height": 280
        },
        "id": "TqYNUgJKk_1h",
        "outputId": "54b33b51-e5d6-424f-838e-0090ba47bcf4"
      },
      "execution_count": null,
      "outputs": [
        {
          "output_type": "display_data",
          "data": {
            "text/plain": [
              "<Figure size 864x720 with 3 Axes>"
            ],
            "image/png": "[encoded data removed]"
          },
          "metadata": {}
        }
      ]
    },
    {
      "cell_type": "markdown",
      "source": [
        "# 예제 5.1.4"
      ],
      "metadata": {
        "id": "WqsKeRjklC0E"
      }
    },
    {
      "cell_type": "code",
      "source": [
        "plt.grid()\n",
        "plt.scatter(wine_Q, wine_Qcount, color='b')\n",
        "plt.ylabel('Count', size=15)\n",
        "plt.xlabel('Quality', size=15)"
      ],
      "metadata": {
        "colab": {
          "base_uri": "https://localhost:8080/",
          "height": 628
        },
        "id": "5IppQN63lEvy",
        "outputId": "09a2e709-dbbf-4aab-fe8d-8a9c870c9927"
      },
      "execution_count": null,
      "outputs": [
        {
          "output_type": "execute_result",
          "data": {
            "text/plain": [
              "Text(0.5, 0, 'Quality')"
            ]
          },
          "metadata": {},
          "execution_count": 26
        },
        {
          "output_type": "display_data",
          "data": {
            "text/plain": [
              "<Figure size 864x720 with 1 Axes>"
            ],
            "image/png": "[encoded data removed]"
          },
          "metadata": {
            "needs_background": "light"
          }
        }
      ]
    },
    {
      "cell_type": "markdown",
      "source": [
        "# 예제 5.2.1 줄기-잎 그림\n",
        "df에서 'free sulfur dioxide(유리이산화황)'  이용"
      ],
      "metadata": {
        "id": "g7BSDMUglHLk"
      }
    },
    {
      "cell_type": "code",
      "source": [
        "x = np.array(df['free sulfur dioxide'])\n",
        "x"
      ],
      "metadata": {
        "colab": {
          "base_uri": "https://localhost:8080/"
        },
        "id": "Tw2bNzSHlLT_",
        "outputId": "20912b71-9fa3-4c90-ebab-568e59c815a2"
      },
      "execution_count": null,
      "outputs": [
        {
          "output_type": "execute_result",
          "data": {
            "text/plain": [
              "array([ 5., 45., 24., 36., 15., 28., 22., 28., 16., 52., 29., 30.,  6.,\n",
              "       38., 40., 48., 47., 58., 20., 56., 45., 10., 34., 26., 98., 39.,\n",
              "       15., 13., 50., 45.])"
            ]
          },
          "metadata": {},
          "execution_count": 89
        }
      ]
    },
    {
      "cell_type": "code",
      "source": [
        "stemgraphic.stem_graphic(x, scale=10)"
      ],
      "metadata": {
        "colab": {
          "base_uri": "https://localhost:8080/",
          "height": 277
        },
        "id": "rO8ZT_0ClNWr",
        "outputId": "d17636b1-913b-429a-9f3c-c2e8d4898936"
      },
      "execution_count": null,
      "outputs": [
        {
          "output_type": "execute_result",
          "data": {
            "text/plain": [
              "(<Figure size 540x234 with 1 Axes>,\n",
              " <matplotlib.axes._axes.Axes at 0x7fcc6bb65090>)"
            ]
          },
          "metadata": {},
          "execution_count": 90
        },
        {
          "output_type": "display_data",
          "data": {
            "text/plain": [
              "<Figure size 540x234 with 1 Axes>"
            ],
            "image/png": "[encoded data removed]"
          },
          "metadata": {}
        }
      ]
    },
    {
      "cell_type": "markdown",
      "source": [
        "# 예제 5.2.2 상자그림"
      ],
      "metadata": {
        "id": "r1cdKytVlOtU"
      }
    },
    {
      "cell_type": "code",
      "source": [
        "plt.figure(figsize=(6, 10))\n",
        "plt.subplot(2, 1, 1)\n",
        "sns.boxplot(data=x, orient=\"v\", color='m')\n",
        "plt.ylabel('free sulfur dioxide')\n",
        "plt.subplot(2, 1, 2)\n",
        "sns.boxplot(data=x, orient=\"h\", color='g')\n",
        "plt.show()"
      ],
      "metadata": {
        "colab": {
          "base_uri": "https://localhost:8080/",
          "height": 632
        },
        "id": "r_2tE1ZilQ1-",
        "outputId": "5c4c84f2-20c0-4c28-f1c7-f1321883cb36"
      },
      "execution_count": null,
      "outputs": [
        {
          "output_type": "display_data",
          "data": {
            "text/plain": [
              "<Figure size 432x720 with 2 Axes>"
            ],
            "image/png": "[encoded data removed]"
          },
          "metadata": {}
        }
      ]
    },
    {
      "cell_type": "code",
      "source": [
        "# - 다른방식으로 구현 해보기\n",
        "plt.figure(figsize=(4, 6))\n",
        "df.plot(kind='box', y='free sulfur dioxide')"
      ],
      "metadata": {
        "colab": {
          "base_uri": "https://localhost:8080/",
          "height": 666
        },
        "id": "bRogBd68lSz0",
        "outputId": "aac5b966-b866-4d4e-e517-68f01fdf2edc"
      },
      "execution_count": null,
      "outputs": [
        {
          "output_type": "execute_result",
          "data": {
            "text/plain": [
              "<matplotlib.axes._subplots.AxesSubplot at 0x7fcc699de390>"
            ]
          },
          "metadata": {},
          "execution_count": 92
        },
        {
          "output_type": "display_data",
          "data": {
            "text/plain": [
              "<Figure size 288x432 with 0 Axes>"
            ]
          },
          "metadata": {}
        },
        {
          "output_type": "display_data",
          "data": {
            "text/plain": [
              "<Figure size 864x720 with 1 Axes>"
            ],
            "image/png": "[encoded data removed]"
          },
          "metadata": {}
        }
      ]
    },
    {
      "cell_type": "code",
      "source": [
        "np.percentile(x,[0,25,50,75,100])"
      ],
      "metadata": {
        "colab": {
          "base_uri": "https://localhost:8080/"
        },
        "id": "Ids5PzWr0NOk",
        "outputId": "95e5540e-39bb-4b30-fe88-ae1719e6cfdb"
      },
      "execution_count": null,
      "outputs": [
        {
          "output_type": "execute_result",
          "data": {
            "text/plain": [
              "array([ 5. , 20.5, 32. , 45. , 98. ])"
            ]
          },
          "metadata": {},
          "execution_count": 93
        }
      ]
    },
    {
      "cell_type": "markdown",
      "source": [
        "- 중앙값 median(50%) : 30 근처\n",
        "- 최소값은 약 5점 근처\n",
        "- 1사분위수(25%) 20점근처\n",
        "- 3사분위수(75%) 45점근처\n",
        "- 4사분위는 60점근처\n",
        "- 최대값은 100근처"
      ],
      "metadata": {
        "id": "JLIL2ekClY4l"
      }
    },
    {
      "cell_type": "markdown",
      "source": [
        "# 예제 5.2.3 (a)(b) 정규분포로부터 50개 난수"
      ],
      "metadata": {
        "id": "JHMHfo4GlnFM"
      }
    },
    {
      "cell_type": "code",
      "source": [
        "y = scipy.stats.norm.rvs(loc=0, scale=1, size=50)\n",
        "y"
      ],
      "metadata": {
        "colab": {
          "base_uri": "https://localhost:8080/"
        },
        "id": "P-pZ-ApsplXW",
        "outputId": "de82d48f-fecc-4824-c9ea-6adeb54eff06"
      },
      "execution_count": null,
      "outputs": [
        {
          "output_type": "execute_result",
          "data": {
            "text/plain": [
              "array([ 1.01012718,  0.92001793, -0.19505734,  0.80539342, -0.70134443,\n",
              "       -0.53722302,  0.15626385, -0.19022103, -0.44873803, -0.67244804,\n",
              "       -0.55749472,  0.93916874, -1.94332341,  0.35249436, -0.23643695,\n",
              "        0.7278135 ,  0.51507361, -2.78253447,  0.58464661,  0.32427424,\n",
              "        0.02186284, -0.46867382,  0.85328122, -0.41302931,  1.83471763,\n",
              "        0.56438286,  2.13782807, -0.785534  , -1.75592564,  0.7147896 ,\n",
              "        0.85270406,  0.0353601 , -1.53879325, -0.44789518,  0.61798553,\n",
              "       -0.18417633, -0.11598519, -0.17545897, -0.93391466, -0.53302033,\n",
              "       -1.42655542,  1.76795995, -0.47537288,  0.47761018, -1.02188594,\n",
              "        0.79452824, -1.87316098,  0.92061512, -0.03536792,  2.11060505])"
            ]
          },
          "metadata": {},
          "execution_count": 57
        }
      ]
    },
    {
      "cell_type": "code",
      "source": [
        "plt.figure(figsize=(8, 4))\n",
        "plt.subplot(121)\n",
        "plt.hist(y)\n",
        "plt.subplot(1, 2, 2)\n",
        "sns.distplot(y, bins=10)"
      ],
      "metadata": {
        "colab": {
          "base_uri": "https://localhost:8080/",
          "height": 389
        },
        "id": "qRh_N95zlV0b",
        "outputId": "85bb6c8b-9a6b-424e-fef8-26146e8cb324"
      },
      "execution_count": null,
      "outputs": [
        {
          "output_type": "stream",
          "name": "stderr",
          "text": [
            "/usr/local/lib/python3.7/dist-packages/seaborn/distributions.py:2619: FutureWarning:\n",
            "\n",
            "`distplot` is a deprecated function and will be removed in a future version. Please adapt your code to use either `displot` (a figure-level function with similar flexibility) or `histplot` (an axes-level function for histograms).\n",
            "\n"
          ]
        },
        {
          "output_type": "execute_result",
          "data": {
            "text/plain": [
              "<matplotlib.axes._subplots.AxesSubplot at 0x7fcc6c42d850>"
            ]
          },
          "metadata": {},
          "execution_count": 58
        },
        {
          "output_type": "display_data",
          "data": {
            "text/plain": [
              "<Figure size 576x288 with 2 Axes>"
            ],
            "image/png": "[encoded data removed]"
          },
          "metadata": {}
        }
      ]
    },
    {
      "cell_type": "code",
      "source": [
        "# - subplot 다른 방식으로 나누기\n",
        "fig, (ax0, ax1) = plt.subplots(nrows=1, ncols=2, sharey=False, figsize=(8, 4))\n",
        "# fig.suptitle(\"Example 5.2.3\", fontsize=15, fontweight='bold')\n",
        "fig.get_axes()[0].annotate('Example 5.2.3', (0.55, 1.2),\n",
        "                           xycoords='figure fraction', ha='center', fontsize=15)\n",
        "ax0.hist(y)\n",
        "ax0.set(title='5.2.3 (a) histogram')\n",
        "sns.distplot(y, bins=10)\n",
        "ax1.set(title='5.2.3 (b) histogram')\n",
        "ax1.axvline(x=y.mean(), color='b', label='Average',\n",
        "            linestyle='--', linewidth=1)"
      ],
      "metadata": {
        "colab": {
          "base_uri": "https://localhost:8080/",
          "height": 493
        },
        "id": "DM8M_ypflrEJ",
        "outputId": "e27095a4-a2c7-4a88-8ed0-5157ca6c8cd4"
      },
      "execution_count": null,
      "outputs": [
        {
          "output_type": "stream",
          "name": "stderr",
          "text": [
            "/usr/local/lib/python3.7/dist-packages/seaborn/distributions.py:2619: FutureWarning:\n",
            "\n",
            "`distplot` is a deprecated function and will be removed in a future version. Please adapt your code to use either `displot` (a figure-level function with similar flexibility) or `histplot` (an axes-level function for histograms).\n",
            "\n"
          ]
        },
        {
          "output_type": "execute_result",
          "data": {
            "text/plain": [
              "<matplotlib.lines.Line2D at 0x7fcc6c376850>"
            ]
          },
          "metadata": {},
          "execution_count": 59
        },
        {
          "output_type": "display_data",
          "data": {
            "text/plain": [
              "<Figure size 576x288 with 2 Axes>"
            ],
            "image/png": "[encoded data removed]"
          },
          "metadata": {}
        }
      ]
    },
    {
      "cell_type": "markdown",
      "source": [
        "# 예제 5.2.7(a)"
      ],
      "metadata": {
        "id": "85e6C0nIltgB"
      }
    },
    {
      "cell_type": "code",
      "source": [
        "n = len(y)\n",
        "m = np.mean(y)\n",
        "sd = np.std(y, ddof=1)\n",
        "cri = scipy.stats.t.ppf(df=n-1, q=0.975)  # 신뢰구간 95%니까 0.025씩\n",
        "lower = m - cri * sd / np.sqrt(n)\n",
        "upper = m + cri * sd / np.sqrt(n)\n",
        "\n",
        "print(cri)\n",
        "interval = scipy.stats.t.interval(0.95, n-1, m, sd/np.sqrt(n))\n",
        "print(interval)\n",
        "\n",
        "fig, ax = plt.subplots(nrows=1, ncols=1, sharey=False, figsize=(8, 3))\n",
        "ax.set(title='5.2.7 (a) CI 95%')\n",
        "sns.distplot(y, bins=5)\n",
        "ax.axvline(x=lower, label='Lower Limit', linewidth=1, color='orange')\n",
        "plt.text(lower - 0.85, 0.4,\n",
        "         '{:.1f}'.format(lower), fontsize=12, color='orange')\n",
        "ax.axvline(x=upper, label='Upper Limit', linewidth=1, color='orange')\n",
        "plt.text(upper + 0.2, 0.4,\n",
        "         '{:.1f}'.format(upper), fontsize=12, color='orange')"
      ],
      "metadata": {
        "colab": {
          "base_uri": "https://localhost:8080/",
          "height": 385
        },
        "id": "gsg9NBtelvbw",
        "outputId": "576b4f93-5fbb-46e0-c1d1-37ed951265c7"
      },
      "execution_count": null,
      "outputs": [
        {
          "output_type": "stream",
          "name": "stdout",
          "text": [
            "2.009575234489209\n",
            "(-0.30315536304021307, 0.2867526697828615)\n"
          ]
        },
        {
          "output_type": "stream",
          "name": "stderr",
          "text": [
            "/usr/local/lib/python3.7/dist-packages/seaborn/distributions.py:2619: FutureWarning:\n",
            "\n",
            "`distplot` is a deprecated function and will be removed in a future version. Please adapt your code to use either `displot` (a figure-level function with similar flexibility) or `histplot` (an axes-level function for histograms).\n",
            "\n"
          ]
        },
        {
          "output_type": "execute_result",
          "data": {
            "text/plain": [
              "Text(0.48675266978286147, 0.4, '0.3')"
            ]
          },
          "metadata": {},
          "execution_count": 99
        },
        {
          "output_type": "display_data",
          "data": {
            "text/plain": [
              "<Figure size 576x216 with 1 Axes>"
            ],
            "image/png": "[encoded data removed]"
          },
          "metadata": {}
        }
      ]
    },
    {
      "cell_type": "markdown",
      "source": [
        "# 예제 5.2.7(d)"
      ],
      "metadata": {
        "id": "DuZaIMj7mG_s"
      }
    },
    {
      "cell_type": "code",
      "source": [
        "population = scipy.stats.norm(loc=0, scale=1)\n",
        "time = np.array(np.arange(30))\n",
        "\n",
        "\n",
        "def calc_sample_mean_ci(size, n_trial):\n",
        "    sample_mean_arr = np.zeros(n_trial)\n",
        "    ci_lower_arr = np.zeros(n_trial)\n",
        "    ci_upper_arr = np.zeros(n_trial)\n",
        "    int_arr = np.zeros(n_trial)\n",
        "    for i in range(0, n_trial):\n",
        "        sample = population.rvs(size=size)\n",
        "        sample_mean_arr[i] = np.mean(sample)\n",
        "        sd = np.std(sample, ddof=1) / np.sqrt(size)\n",
        "        ci_lower_arr[i] = np.mean(sample) - 1.96 * sd\n",
        "        ci_upper_arr[i] = np.mean(sample) + 1.96 * sd\n",
        "        int_arr[i] = 1.96 * sd\n",
        "    return(sample_mean_arr, ci_lower_arr, ci_upper_arr, int_arr)\n",
        "\n",
        "\n",
        "np.random.seed(1)\n",
        "m, lo, up, int_l = calc_sample_mean_ci(size=10, n_trial=30)\n",
        "plt.errorbar(time, m, yerr=int_l, fmt=\"bo\", linewidth=1,\n",
        "             elinewidth=0.3, ecolor='k', capsize=3, capthick=0.5)\n",
        "plt.axhline(y=0)\n",
        "\n",
        "# FIN."
      ],
      "metadata": {
        "colab": {
          "base_uri": "https://localhost:8080/",
          "height": 649
        },
        "id": "Qv6_Y6M9mIu7",
        "outputId": "92f4e398-396a-49a5-a15d-cf6d3f46c241"
      },
      "execution_count": null,
      "outputs": [
        {
          "output_type": "execute_result",
          "data": {
            "text/plain": [
              "<matplotlib.lines.Line2D at 0x7fcc6fabe390>"
            ]
          },
          "metadata": {},
          "execution_count": 43
        },
        {
          "output_type": "display_data",
          "data": {
            "text/plain": [
              "<Figure size 864x720 with 1 Axes>"
            ],
            "image/png": "[encoded data removed]"
          },
          "metadata": {}
        }
      ]
    }
  ]
}
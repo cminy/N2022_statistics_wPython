{
  "nbformat": 4,
  "nbformat_minor": 0,
  "metadata": {
    "colab": {
      "name": "actd_mergeadd.ipynb",
      "provenance": [],
      "collapsed_sections": [],
      "mount_file_id": "1BTjAAGl6LSGXUjJJNQDCNGKvj57jX5gk",
      "authorship_tag": "ABX9TyM7NFW3TLXjEl2M5cC5WqMV",
      "include_colab_link": true
    },
    "kernelspec": {
      "name": "python3",
      "display_name": "Python 3"
    },
    "language_info": {
      "name": "python"
    }
  },
  "cells": [
    {
      "cell_type": "markdown",
      "metadata": {
        "id": "view-in-github",
        "colab_type": "text"
      },
      "source": [
        "<a href=\"https://colab.research.google.com/github/cminy/cminydev22/blob/main/actd_mergeadd.ipynb\" target=\"_parent\"><img src=\"https://colab.research.google.com/assets/colab-badge.svg\" alt=\"Open In Colab\"/></a>"
      ]
    },
    {
      "cell_type": "code",
      "execution_count": null,
      "metadata": {
        "id": "N7rZRhxgT8L-"
      },
      "outputs": [],
      "source": [
        "# DESCRIPTION : Wine Quality Data Set 합치기\n",
        "# -*- coding: utf-8 -*-\n",
        "\n",
        "import os\n",
        "import glob\n",
        "import pandas as pd\n",
        "import numpy as np"
      ]
    },
    {
      "cell_type": "code",
      "source": [
        "class MergeManager:\n",
        "    def findmerged(self, merged):\n",
        "        mergedfile = os.path.isfile('/content/drive/MyDrive/999 공유 폴더/study_djhunting/data/{}'.format(merged))\n",
        "        df = pd.DataFrame([])\n",
        "        if mergedfile is 'True':\n",
        "            df = pd.read_csv('/content/drive/MyDrive/999 공유 폴더/study_djhunting/data/{}'.format(merged))\n",
        "            return df\n",
        "        elif mergedfile is 'False':\n",
        "            print(\"결합 파일이 없습니다.\")\n",
        "    #         self.mergeandcate(merged)\n",
        "    #         df = pd.read_csv(\"/content/drive/MyDrive/999 공유 폴더/study_djhunting/data/\" + merged)\n",
        "    #         return df\n",
        "\n",
        "    # def mergeandcate(self, merged):\n",
        "    #     wineAll = pd.DataFrame([])\n",
        "    #     # data폴더 내의 모든 csv 파일 목록 불러오기\n",
        "    #     csvList = glob.glob(\"./data/*.csv\")\n",
        "    #     csvList.sort(reverse=True)\n",
        "    #     # vinoCate 추가 후 merge\n",
        "    #     for each_csv in csvList:\n",
        "    #         filename = each_csv.split('/')[-1]\n",
        "    #         if filename.endswith('red.csv'):\n",
        "    #             vinoCate = \"red\"\n",
        "    #         elif filename.endswith('white.csv'):\n",
        "    #             vinoCate = \"white\"\n",
        "    #         df_temp = pd.read_csv(each_csv, sep=';')\n",
        "    #         df_temp = df_temp.reset_index(drop=True)\n",
        "    #         df_temp['vinoCate'] = vinoCate\n",
        "    #         wineAll = pd.concat([wineAll, df_temp])\n",
        "    #     # csv 파일로 저장\n",
        "    #     wineAll.to_csv(\"./data/\" + merged)"
      ],
      "metadata": {
        "id": "6_C4h6DEUJPj"
      },
      "execution_count": null,
      "outputs": []
    }
  ]
}